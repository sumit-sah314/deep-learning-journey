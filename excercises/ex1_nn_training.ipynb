{
 "cells": [
  {
   "cell_type": "markdown",
   "metadata": {
    "id": "AMWT24IcCq1N"
   },
   "source": [
    "# Problem Statement: **Training in Agricultural Company**\n",
    "\n",
    "### In this chapter, you’ll explore the foundational aspects of training neural networks in AI-oriented Agricultural company. You’ll work as an AI engineer to train models that solve critical challenges in different domains. Along the way, you’ll learn about gradient descent, batch processing, and training neural networks from scratch.\n",
    "\n",
    "References:\n",
    "* Column Stack (Numpy) [link](https://numpy.org/doc/stable/reference/generated/numpy.column_stack.html)\n",
    "\n",
    "* PyTorch Tensors (PyTorch) [link](https://pytorch.org/tutorials/beginner/introyt/tensors_deeper_tutorial.html)\n",
    "\n",
    "* Sequential (PyTorch) [link](https://pytorch.org/docs/stable/generated/torch.nn.Sequential.html)"
   ]
  },
  {
   "cell_type": "markdown",
   "metadata": {
    "id": "w7qTZ-o7DRTP"
   },
   "source": [
    "Imports and CUDA"
   ]
  },
  {
   "cell_type": "code",
   "execution_count": null,
   "metadata": {
    "colab": {
     "base_uri": "https://localhost:8080/"
    },
    "id": "QVRQzxnKCbRL",
    "outputId": "430f85c2-0ff8-49a6-cfc1-ccda8830b78b"
   },
   "outputs": [
    {
     "name": "stdout",
     "output_type": "stream",
     "text": [
      "Using device: cuda\n"
     ]
    }
   ],
   "source": [
    "import torch\n",
    "import numpy as np\n",
    "import torch.nn as nn\n",
    "import torch.optim as optim\n",
    "import matplotlib.pyplot as plt\n",
    "import pandas as pd\n",
    "from sklearn.model_selection import train_test_split\n",
    "from sklearn.preprocessing import MinMaxScaler\n",
    "\n",
    "# Check if CUDA (GPU) is available\n",
    "device = torch.device('cuda' if torch.cuda.is_available() else 'cpu')\n",
    "print(f\"Using device: {device}\")"
   ]
  },
  {
   "cell_type": "markdown",
   "metadata": {
    "id": "VRPCoIeNOAPw"
   },
   "source": [
    "### **Task1: Predicting Equipment Costs**\n",
    "\n",
    "The AI Agriculture Company is developing a tool to predict the cost of manufacturing its new agricultural equipment. The cost is directly proportional to the square of the material used. Your task is to compute and predict the cost, and debug the gradients of the implemented backpropagation process.\n",
    "\n",
    "Use when required: $$ f(x) = x^2$$"
   ]
  },
  {
   "cell_type": "markdown",
   "metadata": {
    "id": "JDYY9uleUxBC"
   },
   "source": [
    "**Step1:** Define the Problem\n",
    "\n",
    "Assume the material required is represented as a single feature: **material_amount**. For simplicity:\n",
    "\n",
    "* **Input:** material_amount (a tensor of size (1, 1)) — e.g., 5 units of material.\n",
    "* **Target cost:** material_amount ** 2 — the cost of producing the equipment."
   ]
  },
  {
   "cell_type": "code",
   "execution_count": null,
   "metadata": {
    "id": "JIih0kRoViAx"
   },
   "outputs": [],
   "source": [
    "# Material amount as input (e.g., 5 units)\n",
    "material_amount = torch.tensor([[5.0]], requires_grad=False)  # Input tensor (1x1)\n",
    "\n",
    "\n",
    "# Target cost (cost = material_amount ** 2)\n",
    "target_cost = material_amount ** 2  # Target tensor (1x1)\n"
   ]
  },
  {
   "cell_type": "markdown",
   "metadata": {
    "id": "MbRa2fmNVic8"
   },
   "source": [
    "**Step2:** Set Up the Model\n",
    "\n",
    "Use a single-layer linear model to predict the cost. The model should:\n",
    "\n",
    "* Take material_amount as input.\n",
    "* Output the predicted cost (scalar)."
   ]
  },
  {
   "cell_type": "code",
   "execution_count": null,
   "metadata": {
    "id": "x2PbKdlmV5ir"
   },
   "outputs": [],
   "source": [
    "# Start with random weights and zero biases\n",
    "torch.manual_seed(0)  # For reproducibility\n",
    "weight = torch.tensor([[0.5]], requires_grad=True)  # Initialize weight manually\n",
    "bias = torch.tensor([[0.0]], requires_grad=True)  # Initialize bias as zero\n",
    "\n",
    "predicted_cost = torch.matmul(material_amount, weight) + bias\n"
   ]
  },
  {
   "cell_type": "markdown",
   "metadata": {
    "id": "y4mPVdW0V5_9"
   },
   "source": [
    "**Step3:** Compute Loss\n",
    "\n",
    "Use Mean Squared Error **(MSE)** to calculate the loss between the predicted and actual costs."
   ]
  },
  {
   "cell_type": "code",
   "execution_count": null,
   "metadata": {
    "id": "IMRhR4-5WJgS"
   },
   "outputs": [],
   "source": [
    "# Loss function: Mean Squared Error (MSE)\n",
    "loss = torch.mean((predicted_cost - target_cost) ** 2)"
   ]
  },
  {
   "cell_type": "markdown",
   "metadata": {
    "id": "p3KtHjd2WJ7V"
   },
   "source": [
    "**Step4:** Backpropagation\n",
    "\n",
    "* Write the gradient descent process step-by-step.\n",
    "* Manually compute the gradients of the loss with respect to the model's weights and biases using the chain rule.\n"
   ]
  },
  {
   "cell_type": "code",
   "execution_count": null,
   "metadata": {
    "id": "FVpvLz8vo6wP"
   },
   "outputs": [],
   "source": [
    "# Calculate the gradient of the loss w.r.t. predicted_cost\n",
    "grad_predicted_cost = 2 * (predicted_cost - target_cost) / target_cost.size(0)  # dL/d(predicted_cost)\n",
    "\n",
    "# Calculate the gradient of predicted_cost w.r.t. weight and bias\n",
    "grad_weight = torch.matmul(material_amount.T, grad_predicted_cost) # dL/d(weight)\n",
    "grad_bias = torch.sum(grad_predicted_cost)  # dL/d(bias)"
   ]
  },
  {
   "cell_type": "markdown",
   "metadata": {
    "id": "vQkAqhsmWY1-"
   },
   "source": [
    "**Step5:** Verify Gradients\n",
    "\n",
    "Use **torch.autograd** to compute gradients automatically and compare them with your manual calculations.\n",
    "\n",
    "You can use **allclose** to check whether all elements of two tensors are approximately equal, within a specified tolerance.\n",
    "\n",
    "https://pytorch.org/docs/stable/generated/torch.allclose.html"
   ]
  },
  {
   "cell_type": "code",
   "execution_count": null,
   "metadata": {
    "id": "CWS7RR2eXIC1"
   },
   "outputs": [],
   "source": [
    "loss.backward()"
   ]
  },
  {
   "cell_type": "code",
   "execution_count": null,
   "metadata": {
    "colab": {
     "base_uri": "https://localhost:8080/"
    },
    "id": "2LBip8cjpSf-",
    "outputId": "ebf67d6e-28af-401e-b020-4c7524023978"
   },
   "outputs": [
    {
     "name": "stdout",
     "output_type": "stream",
     "text": [
      "Manual Gradients:\n",
      "Weight Gradient: -225.0\n",
      "Bias Gradient: -45.0\n",
      "\n",
      "Autograd Gradients:\n",
      "Weight Gradient: -225.0\n",
      "Bias Gradient: -45.0\n",
      "\n",
      "Gradient Verification:\n",
      "Weight Gradients Match: True\n",
      "Bias Gradients Match: True\n"
     ]
    }
   ],
   "source": [
    "# Compare Gradients\n",
    "print(\"Manual Gradients:\")\n",
    "print(\"Weight Gradient:\", grad_weight.item())\n",
    "print(\"Bias Gradient:\", grad_bias.item())\n",
    "\n",
    "print(\"\\nAutograd Gradients:\")\n",
    "print(\"Weight Gradient:\", weight.grad.item())\n",
    "print(\"Bias Gradient:\", bias.grad.item())\n",
    "\n",
    "# Verify the Gradients\n",
    "print(\"\\nGradient Verification:\")\n",
    "print(\"Weight Gradients Match:\", torch.allclose(grad_weight, weight.grad, atol=1e-6))\n",
    "print(\"Bias Gradients Match:\", torch.allclose(grad_bias, bias.grad, atol=1e-6))"
   ]
  },
  {
   "cell_type": "markdown",
   "metadata": {
    "id": "U56K7C-qQ5_L"
   },
   "source": [
    "\n",
    "\n",
    "---\n",
    "\n"
   ]
  },
  {
   "cell_type": "markdown",
   "metadata": {
    "id": "owGLtVZQTRsG"
   },
   "source": [
    "### **Task2: Optimizing Equipment Production with Neural Networks**\n",
    "\n",
    "The AI Agriculture Company wants to predict the efficiency of manufacturing equipment based on two input features:\n",
    "\n",
    "* Weekly hours spent on machine maintenance\n",
    "* Weekly hours spent on training factory workers.\n",
    "\n",
    "The company believes these two factors significantly impact production efficiency, which is represented as a score between 0 and 1. Your task is to build and train a simple neural network to predict this efficiency score."
   ]
  },
  {
   "cell_type": "markdown",
   "metadata": {
    "id": "ObFXxToqZudV"
   },
   "source": [
    "**Step 1:** Dataset Details\n",
    "\n",
    "Simulate a dataset with the following properties:\n",
    "\n",
    "* Feature 1: Machine Maintenance Hours (range: 5 to 50 hours).\n",
    "* Feature 2: Training Hours for Workers (range: 2 to 20 hours).\n",
    "* Target Output: Efficiency score calculated as:\n",
    "\n",
    "$$ Efficiency Score= (0.4⋅Maintenance Hours+0.6⋅Training Hours)/5$$\n",
    "​\n",
    "\n"
   ]
  },
  {
   "cell_type": "code",
   "execution_count": null,
   "metadata": {
    "id": "uhIRf13wTiFb"
   },
   "outputs": [],
   "source": [
    "np.random.seed(42)\n",
    "machine_maintenance_hours = np.random.uniform(5, 50, 500)  # Maintenance hours\n",
    "training_hours = np.random.uniform(2, 20, 500)             # Training hours\n",
    "efficiency_score = (0.4 * machine_maintenance_hours + 0.6 * training_hours) / 50  # Efficiency score\n",
    "\n",
    "# Combine into a dataset\n",
    "X = np.column_stack((machine_maintenance_hours, training_hours))\n",
    "y = efficiency_score.reshape(-1, 1)"
   ]
  },
  {
   "cell_type": "markdown",
   "metadata": {
    "id": "_8z-ELN0aIua"
   },
   "source": [
    "**Step 2**: Split the dataset into training (80%) and validation (20%) sets."
   ]
  },
  {
   "cell_type": "code",
   "execution_count": null,
   "metadata": {
    "id": "aRFzPKFdaajZ"
   },
   "outputs": [],
   "source": [
    "X_train, X_val, y_train, y_val = train_test_split(X, y, test_size=0.2, random_state=42)\n"
   ]
  },
  {
   "cell_type": "markdown",
   "metadata": {
    "id": "nHskK6xHabGi"
   },
   "source": [
    "**Step3:** Normalize input features to improve training stability."
   ]
  },
  {
   "cell_type": "code",
   "execution_count": null,
   "metadata": {
    "id": "0AfJlpOparCh"
   },
   "outputs": [],
   "source": [
    "scaler = MinMaxScaler()\n",
    "X = scaler.fit_transform(X)\n",
    "\n",
    "# Convert data to PyTorch tensors\n",
    "X_train = torch.tensor(X_train, dtype=torch.float32)\n",
    "y_train = torch.tensor(y_train, dtype=torch.float32)\n",
    "X_val = torch.tensor(X_val, dtype=torch.float32)\n",
    "y_val = torch.tensor(y_val, dtype=torch.float32)"
   ]
  },
  {
   "cell_type": "markdown",
   "metadata": {
    "id": "9QTYqeJra68l"
   },
   "source": [
    "**Step4:** Define a neural network with the following structure:\n",
    "\n",
    "* Input Layer: 2 neurons (for the two input features).\n",
    "* Hidden Layer: 5 neurons with ReLU activation.\n",
    "* Output Layer: 1 neuron with sigmoid activation (to output a value between 0 and 1).\n"
   ]
  },
  {
   "cell_type": "code",
   "execution_count": null,
   "metadata": {
    "id": "vAx4GlcvwbKg"
   },
   "outputs": [],
   "source": [
    "model = nn.Sequential(\n",
    "    nn.Linear(2, 5),  # 2 input features, 5 hidden neurons\n",
    "    nn.ReLU(),        # ReLU activation\n",
    "    nn.Linear(5, 1),  # 1 output neuron\n",
    "    nn.Sigmoid()      # Sigmoid activation for efficiency score\n",
    ")"
   ]
  },
  {
   "cell_type": "markdown",
   "metadata": {
    "id": "IvJP8mjca8EP"
   },
   "source": [
    "**Step5**: Train the network using:\n",
    "\n",
    "* **Optimizers**: SGD.\n",
    "* **Epochs**: 200.\n",
    "* **Learning Rates**: 0.01."
   ]
  },
  {
   "cell_type": "code",
   "execution_count": null,
   "metadata": {
    "colab": {
     "base_uri": "https://localhost:8080/"
    },
    "id": "yZFEf-0F4Fic",
    "outputId": "bc70abc8-becd-4c55-99b0-684a83b3bb4d"
   },
   "outputs": [
    {
     "name": "stdout",
     "output_type": "stream",
     "text": [
      "\n",
      "Training the model...\n",
      "Epoch 1/200, Train Loss: 0.3995, Val Loss: 0.4115\n",
      "Epoch 50/200, Train Loss: 0.2622, Val Loss: 0.2617\n",
      "Epoch 100/200, Train Loss: 0.0301, Val Loss: 0.0321\n",
      "Epoch 150/200, Train Loss: 0.0277, Val Loss: 0.0296\n",
      "Epoch 200/200, Train Loss: 0.0267, Val Loss: 0.0286\n"
     ]
    }
   ],
   "source": [
    "# Define the training function\n",
    "def train_model(model, loss_fn, optimizer, X, y, X_val, y_val, epochs):\n",
    "    train_losses, val_losses = [], []\n",
    "    for epoch in range(epochs):\n",
    "        # Training step\n",
    "        model.train()\n",
    "        y_pred = model(X)\n",
    "        loss = loss_fn(y_pred, y)\n",
    "        optimizer.zero_grad()\n",
    "        loss.backward()\n",
    "        optimizer.step()\n",
    "\n",
    "        # Validation step\n",
    "        model.eval()\n",
    "        with torch.no_grad():\n",
    "            y_val_pred = model(X_val)\n",
    "            val_loss = loss_fn(y_val_pred, y_val)\n",
    "\n",
    "        train_losses.append(loss.item())\n",
    "        val_losses.append(val_loss.item())\n",
    "\n",
    "        # Print progress\n",
    "        if (epoch + 1) % 50 == 0 or epoch == 0:\n",
    "            print(f\"Epoch {epoch+1}/{epochs}, Train Loss: {loss.item():.4f}, Val Loss: {val_loss.item():.4f}\")\n",
    "\n",
    "    return train_losses, val_losses\n",
    "\n",
    "# Train and evaluate the model\n",
    "epochs = 200\n",
    "learning_rate = 0.01\n",
    "\n",
    "optimizer = optim.SGD(model.parameters(), lr=learning_rate)\n",
    "loss_fn = nn.MSELoss()\n",
    "\n",
    "print(\"\\nTraining the model...\")\n",
    "train_losses, val_losses = train_model(model, loss_fn, optimizer, X_train, y_train, X_val, y_val, epochs)"
   ]
  },
  {
   "cell_type": "markdown",
   "metadata": {
    "id": "3w6lR90ebD_i"
   },
   "source": [
    "**Step6:**  Plot and analyze the convergence curves for training and validation loss"
   ]
  },
  {
   "cell_type": "code",
   "execution_count": null,
   "metadata": {
    "colab": {
     "base_uri": "https://localhost:8080/",
     "height": 564
    },
    "id": "psR_lEurbNIp",
    "outputId": "0dde0cfb-6c2c-42df-89bc-d3e24143f424"
   },
   "outputs": [
    {
     "data": {
      "image/png": "[encoded data removed]",
      "text/plain": [
       "<Figure size 1000x600 with 1 Axes>"
      ]
     },
     "metadata": {},
     "output_type": "display_data"
    }
   ],
   "source": [
    "plt.figure(figsize=(10, 6))\n",
    "plt.plot(train_losses, label=\"Training Loss\")\n",
    "plt.plot(val_losses, label=\"Validation Loss\", linestyle=\"--\")\n",
    "plt.title(\"Loss Convergence\")\n",
    "plt.xlabel(\"Epochs\")\n",
    "plt.ylabel(\"Loss\")\n",
    "plt.legend()\n",
    "plt.show()"
   ]
  },
  {
   "cell_type": "markdown",
   "metadata": {
    "id": "OsSgQiy95Eno"
   },
   "source": [
    "**Bonus:** Modify epochs to 500 and learning rate to 0.05 and analyse the graph"
   ]
  },
  {
   "cell_type": "markdown",
   "metadata": {
    "id": "qjL-YESATyt_"
   },
   "source": [
    "\n",
    "\n",
    "---\n",
    "\n"
   ]
  },
  {
   "cell_type": "markdown",
   "metadata": {
    "id": "mrJ4LHZiTz5a"
   },
   "source": [
    "### **Task3: Predicting Crop Yield in AgroTech**\n",
    "\n",
    "In AgroTech, an agriculture-focused town, farmers rely on AI systems to predict crop yields based on weather and soil data.\n",
    "\n",
    "Your task is to build and train a neural network to predict Crop Yield (tons/ha) using features from the provided dataset **(agriculture_dataset_codebasics_DL.csv)**."
   ]
  },
  {
   "cell_type": "markdown",
   "metadata": {
    "id": "DOcZzq94iTCA"
   },
   "source": [
    "**Dataset Overview**\n",
    "\n",
    "The agriculture_dataset.csv file contains the following features:\n",
    "\n",
    "* Temperature (C): Average temperature during the growing season.\n",
    "\n",
    "* Rainfall (mm): Total rainfall during the growing season.\n",
    "\n",
    "* Soil_pH: Soil acidity (range: 0-14).\n",
    "\n",
    "* Nitrogen (mg/kg): Nitrogen content in the soil.\n",
    "\n",
    "* Irrigation_Hours: Total hours of irrigation during the growing season.\n",
    "\n",
    "* Fertilizer_Usage (kg/ha): Total fertilizer used per hectare.\n",
    "\n",
    "* Crop_Yield (tons/ha): Target variable representing the crop yield."
   ]
  },
  {
   "cell_type": "markdown",
   "metadata": {
    "id": "ZFGxLGhiir-9"
   },
   "source": [
    "**Goal**\n",
    "\n",
    "Train a neural network to predict the crop yield using Batch Gradient Descent, Mini-Batch Gradient Descent, and Stochastic Gradient Descent.\n",
    "\n",
    "Compare their performance by plotting loss convergence over epochs."
   ]
  },
  {
   "cell_type": "markdown",
   "metadata": {
    "id": "KrxibUQ5iz7w"
   },
   "source": [
    "**Step 1:** Load and split the dataset"
   ]
  },
  {
   "cell_type": "code",
   "execution_count": null,
   "metadata": {
    "id": "aiPmoJGHi1jb"
   },
   "outputs": [],
   "source": [
    "# Load the dataset\n",
    "data = pd.read_csv('/content/agriculture_dataset_codebasics_DL.csv')\n",
    "\n",
    "# Split data into features and target\n",
    "features = data[['Temperature (C)', 'Rainfall (mm)', 'Soil pH', 'Nitrogen (mg/kg)', 'Irrigation Hours', 'Fertilizer Usage (kg/ha)']].values\n",
    "target = data['Crop Yield (tons/ha)'].values.reshape(-1, 1)"
   ]
  },
  {
   "cell_type": "code",
   "execution_count": null,
   "metadata": {
    "colab": {
     "base_uri": "https://localhost:8080/"
    },
    "id": "RRAwe-2FzOnn",
    "outputId": "e4eb265e-f57b-4ef7-9c22-cb5529544cb0"
   },
   "outputs": [
    {
     "name": "stdout",
     "output_type": "stream",
     "text": [
      "<class 'pandas.core.frame.DataFrame'>\n",
      "RangeIndex: 10 entries, 0 to 9\n",
      "Data columns (total 7 columns):\n",
      " #   Column                    Non-Null Count  Dtype  \n",
      "---  ------                    --------------  -----  \n",
      " 0   Temperature (C)           10 non-null     int64  \n",
      " 1   Rainfall (mm)             10 non-null     int64  \n",
      " 2   Soil pH                   10 non-null     float64\n",
      " 3   Nitrogen (mg/kg)          10 non-null     int64  \n",
      " 4   Irrigation Hours          10 non-null     int64  \n",
      " 5   Fertilizer Usage (kg/ha)  10 non-null     int64  \n",
      " 6   Crop Yield (tons/ha)      10 non-null     float64\n",
      "dtypes: float64(2), int64(5)\n",
      "memory usage: 688.0 bytes\n"
     ]
    }
   ],
   "source": [
    "data.info()"
   ]
  },
  {
   "cell_type": "markdown",
   "metadata": {
    "id": "BWuxNl5ii2IF"
   },
   "source": [
    "**Step 2:** Normalize the input features to a range of 0-1 and perform an **80%-20%** train-validation split."
   ]
  },
  {
   "cell_type": "code",
   "execution_count": null,
   "metadata": {
    "id": "-zCs0SbSi5Az"
   },
   "outputs": [],
   "source": [
    "scaler = MinMaxScaler()\n",
    "features = scaler.fit_transform(features)\n",
    "\n",
    "X_train, X_val, y_train, y_val = train_test_split(features, target, test_size=0.2, random_state=42)"
   ]
  },
  {
   "cell_type": "code",
   "execution_count": null,
   "metadata": {
    "id": "ChcwJJxEz9Kw"
   },
   "outputs": [],
   "source": [
    "# Convert data to PyTorch Tensors\n",
    "X_train = torch.tensor(X_train, dtype=torch.float32)\n",
    "y_train = torch.tensor(y_train, dtype=torch.float32)\n",
    "X_val = torch.tensor(X_val, dtype=torch.float32)\n",
    "y_val = torch.tensor(y_val, dtype=torch.float32)"
   ]
  },
  {
   "cell_type": "markdown",
   "metadata": {
    "id": "9d3pW6ZGi6X5"
   },
   "source": [
    "**Step 3:** Define a neural network architecture\n",
    "\n",
    "**Input:** 6 features (Temperature, Rainfall, Soil pH, Nitrogen, Irrigation Hours, Fertilizer Usage).\n",
    "\n",
    "**Hidden Layer:** 10 neurons with ReLU activation.\n",
    "\n",
    "**Output:** 1 neuron with linear activation (for regression)."
   ]
  },
  {
   "cell_type": "code",
   "execution_count": null,
   "metadata": {
    "id": "anJo6ifrkI7-"
   },
   "outputs": [],
   "source": [
    "# Define the model using nn.Sequential\n",
    "model = torch.nn.Sequential(\n",
    "    torch.nn.Linear(6, 10),  # Input layer with 6 features and 10 neurons\n",
    "    torch.nn.ReLU(),         # ReLU activation for the hidden layer\n",
    "    torch.nn.Linear(10, 1)   # Output layer with 1 neuron\n",
    ")\n",
    "\n",
    "# Define the loss function\n",
    "loss_fn = torch.nn.MSELoss()"
   ]
  },
  {
   "cell_type": "markdown",
   "metadata": {
    "id": "_Rcfk3Y3kJsX"
   },
   "source": [
    "**Step 4:** Train the network using\n",
    "\n",
    "Batch Gradient Descent (GD):Update weights after processing the entire dataset.\n",
    "\n",
    "Mini-Batch Gradient Descent: Update weights after processing batches of size 16.\n",
    "\n",
    "Stochastic Gradient Descent (SGD): Update weights after every data point."
   ]
  },
  {
   "cell_type": "code",
   "execution_count": null,
   "metadata": {
    "id": "ytTSQWLWkU_A"
   },
   "outputs": [],
   "source": [
    "# Training function for different GD methods\n",
    "def train_model(optimizer, X, y, epochs=50, batch_size=None):\n",
    "    losses = []\n",
    "    for epoch in range(epochs):\n",
    "        epoch_loss = 0.0\n",
    "        if batch_size is None:  # Batch Gradient Descent\n",
    "            y_pred = model(X)\n",
    "            loss = loss_fn(y_pred, y)\n",
    "            loss.backward()\n",
    "            optimizer.step()\n",
    "            optimizer.zero_grad()\n",
    "            epoch_loss = loss.item()\n",
    "        else:\n",
    "            # Mini-batch or SGD\n",
    "            for i in range(0, X.size(0), batch_size):\n",
    "                X_batch = X[i:i+batch_size]\n",
    "                y_batch = y[i:i+batch_size]\n",
    "                y_pred = model(X_batch)\n",
    "                loss = loss_fn(y_pred, y_batch)\n",
    "                loss.backward()\n",
    "                optimizer.step()\n",
    "                optimizer.zero_grad()\n",
    "                epoch_loss += loss.item()\n",
    "        losses.append(epoch_loss / X.size(0))\n",
    "    return losses\n",
    "\n",
    "# Train the model using Batch GD\n",
    "optimizer_batch = torch.optim.SGD(model.parameters(), lr=0.01)\n",
    "losses_batch = train_model(optimizer_batch, X_train, y_train, epochs=50)\n",
    "\n",
    "# Train the model using Mini-Batch GD\n",
    "model = NeuralNetwork()  # Reset model\n",
    "optimizer_mini_batch = torch.optim.SGD(model.parameters(), lr=0.01)\n",
    "losses_mini_batch = train_model(optimizer_mini_batch, X_train, y_train, epochs=50, batch_size=16)\n",
    "\n",
    "# Train the model using Stochastic GD\n",
    "model = NeuralNetwork()  # Reset model\n",
    "optimizer_sgd = torch.optim.SGD(model.parameters(), lr=0.01)\n",
    "losses_sgd = train_model(optimizer_sgd, X_train, y_train, epochs=50, batch_size=1)"
   ]
  },
  {
   "cell_type": "markdown",
   "metadata": {
    "id": "ZrVyXVFlkaKv"
   },
   "source": [
    "**Step 5:** Plot the loss over epochs for each method."
   ]
  },
  {
   "cell_type": "code",
   "execution_count": null,
   "metadata": {
    "colab": {
     "base_uri": "https://localhost:8080/",
     "height": 564
    },
    "id": "gbNfMhYikeyC",
    "outputId": "58f2e1ae-7069-4de6-ff10-697fd0207e24"
   },
   "outputs": [
    {
     "data": {
      "image/png": "[encoded data removed]",
      "text/plain": [
       "<Figure size 1000x600 with 1 Axes>"
      ]
     },
     "metadata": {},
     "output_type": "display_data"
    }
   ],
   "source": [
    "plt.figure(figsize=(10, 6))\n",
    "plt.plot(losses_batch, label='Batch GD', marker='o')\n",
    "plt.plot(losses_mini_batch, label='Mini-Batch GD', marker='x')\n",
    "plt.plot(losses_sgd, label='Stochastic GD', marker='^')\n",
    "plt.xlabel('Epochs')\n",
    "plt.ylabel('Loss')\n",
    "plt.title('Gradient Descent Strategies: Loss Convergence')\n",
    "plt.legend()\n",
    "plt.show()"
   ]
  },
  {
   "cell_type": "markdown",
   "metadata": {
    "id": "Sl0hir7okfXC"
   },
   "source": [
    "**Step 6:** Evaluate the model's Mean Squared Error (MSE) on the validation set."
   ]
  },
  {
   "cell_type": "code",
   "execution_count": null,
   "metadata": {
    "colab": {
     "base_uri": "https://localhost:8080/"
    },
    "id": "cwhsjoxskknr",
    "outputId": "7da28979-b7bc-4f3e-8559-4645a8696771"
   },
   "outputs": [
    {
     "name": "stdout",
     "output_type": "stream",
     "text": [
      "Validation Mean Squared Error (MSE): 0.015303372405469418\n"
     ]
    }
   ],
   "source": [
    "with torch.no_grad():\n",
    "    y_val_pred = model(X_val)\n",
    "    mse = loss_fn(y_val_pred, y_val).item()\n",
    "    print(\"Validation Mean Squared Error (MSE):\", mse)\n"
   ]
  },
  {
   "cell_type": "markdown",
   "metadata": {
    "id": "Ya9zQ7qA02k0"
   },
   "source": [
    "**Let me share a cool Pytorch tip for you**!👇🏻\n",
    "\n",
    "\n",
    "![image.png](data:image/png;base64,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)"
   ]
  }
 ],
 "metadata": {
  "accelerator": "GPU",
  "colab": {
   "gpuType": "T4",
   "provenance": []
  },
  "kernelspec": {
   "display_name": "Python [conda env:base] *",
   "language": "python",
   "name": "conda-base-py"
  },
  "language_info": {
   "codemirror_mode": {
    "name": "ipython",
    "version": 3
   },
   "file_extension": ".py",
   "mimetype": "text/x-python",
   "name": "python",
   "nbconvert_exporter": "python",
   "pygments_lexer": "ipython3",
   "version": "3.12.7"
  }
 },
 "nbformat": 4,
 "nbformat_minor": 4
}
