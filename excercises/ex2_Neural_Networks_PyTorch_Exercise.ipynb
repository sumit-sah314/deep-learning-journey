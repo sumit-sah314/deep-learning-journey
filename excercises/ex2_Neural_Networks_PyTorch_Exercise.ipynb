{
 "cells": [
  {
   "cell_type": "markdown",
   "metadata": {
    "id": "bh8Jc28NWy7Z"
   },
   "source": [
    "# Problem Statement: **Threat Classification for AtliQ Wildlife Reserve**\n",
    "\n",
    "### Welcome to the AtliQ Wildlife Reserve, a sanctuary where technology helps preserve wildlife. You are tasked with developing AI systems to monitor, classify, and predict behaviors of animals in the sanctuary.\n",
    "\n",
    "\n",
    "**References:**\n",
    "\n",
    "* PyTorch Dataset and Dataloader [link](https://pytorch.org/tutorials/beginner/basics/data_tutorial.html)\n",
    "* Seaborn Heatmaps [link](https://seaborn.pydata.org/generated/seaborn.heatmap.html)\n"
   ]
  },
  {
   "cell_type": "markdown",
   "metadata": {
    "id": "Z5MqurUZXGoU"
   },
   "source": [
    "Imports and CUDA"
   ]
  },
  {
   "cell_type": "code",
   "execution_count": 92,
   "metadata": {
    "id": "9kq7PLN6WEo3"
   },
   "outputs": [
    {
     "name": "stdout",
     "output_type": "stream",
     "text": [
      "Using device: cpu\n"
     ]
    }
   ],
   "source": [
    "import torch\n",
    "import numpy as np\n",
    "import torch.nn as nn\n",
    "import torch.optim as optim\n",
    "from torch.utils.data import DataLoader, TensorDataset\n",
    "from sklearn.metrics import accuracy_score, confusion_matrix\n",
    "import matplotlib.pyplot as plt\n",
    "import pandas as pd\n",
    "import seaborn as sns\n",
    "from sklearn.model_selection import train_test_split\n",
    "from sklearn.preprocessing import MinMaxScaler\n",
    "\n",
    "# Check if CUDA (GPU) is available\n",
    "device = torch.device('cuda' if torch.cuda.is_available() else 'cpu')\n",
    "print(f\"Using device: {device}\")"
   ]
  },
  {
   "cell_type": "markdown",
   "metadata": {
    "id": "NXD3uwVpHjMc"
   },
   "source": [
    "## Let's do some revision first!\n",
    "\n",
    "**Problem1.** AtliQ Warehouse\n",
    "\n",
    "Your task is to define a simple neural network that will predict whether AtliQ's warehouses are running an optimal stock level for a given product (binary classification). The neural network should include:\n",
    "\n",
    "* An input layer of size 128 (representing features such as sales trends, regional demand, and supplier reliability).\n",
    "* Two hidden layers, each with 64 neurons.\n",
    "* An output layer that predicts the stock status (1 for optimal, 0 for not optimal).\n",
    "\n",
    "\n",
    "**Hint:** Use nn.Sequential to define the network."
   ]
  },
  {
   "cell_type": "code",
   "execution_count": 93,
   "metadata": {
    "id": "VruFTaiIHm9Q"
   },
   "outputs": [
    {
     "name": "stdout",
     "output_type": "stream",
     "text": [
      "Sequential(\n",
      "  (0): Linear(in_features=128, out_features=64, bias=True)\n",
      "  (1): ReLU()\n",
      "  (2): Linear(in_features=64, out_features=64, bias=True)\n",
      "  (3): ReLU()\n",
      "  (4): Linear(in_features=64, out_features=2, bias=True)\n",
      ")\n"
     ]
    }
   ],
   "source": [
    "model = nn.Sequential(\n",
    "    nn.Linear(128, 64),\n",
    "    nn.ReLU(),\n",
    "    nn.Linear(64, 64),\n",
    "    nn.ReLU(),\n",
    "    nn.Linear(64, 2)\n",
    ")\n",
    "\n",
    "# Print the model structure\n",
    "print(model)"
   ]
  },
  {
   "cell_type": "markdown",
   "metadata": {
    "id": "pKM7R8qtISyy"
   },
   "source": [
    "\n",
    "\n",
    "---\n",
    "\n"
   ]
  },
  {
   "cell_type": "markdown",
   "metadata": {
    "id": "_Ye_04NuH5Ms"
   },
   "source": [
    "**Problem2.** Sales data at AtliQ\n",
    "\n",
    "AtliQ's data analytics team has provided sales data in NumPy format for your AI models. The data,\n",
    "\n",
    "` data = np.array([1, 2, 3, 4, 5])`,\n",
    "\n",
    " represents product sales in a given week. Your task is to:\n",
    "\n",
    "Convert this NumPy array into a PyTorch tensor of type float32.\n"
   ]
  },
  {
   "cell_type": "code",
   "execution_count": 94,
   "metadata": {
    "id": "KA0qDRm2H9HH"
   },
   "outputs": [
    {
     "name": "stdout",
     "output_type": "stream",
     "text": [
      "tensor([1, 2, 3, 4, 5])\n"
     ]
    }
   ],
   "source": [
    "# Create a NumPy array\n",
    "data = np.array([1, 2, 3, 4, 5])\n",
    "\n",
    "# Convert the NumPy array to a PyTorch tensor of type float32\n",
    "tensor_data = torch.tensor(data)\n",
    "\n",
    "# Print the tensor\n",
    "print(tensor_data)"
   ]
  },
  {
   "cell_type": "markdown",
   "metadata": {
    "id": "oA20Ywx9IT6-"
   },
   "source": [
    "\n",
    "\n",
    "---\n",
    "\n"
   ]
  },
  {
   "cell_type": "markdown",
   "metadata": {
    "id": "GWUBNL9hIE9B"
   },
   "source": [
    "**Problem3.** Customer Classification at AtliQ\n",
    "\n",
    "AtliQ's marketing team is running an AI model to classify customers into 3 distinct segments based on purchasing behavior. Your task is to:\n",
    "\n",
    "* Simulate raw logits from the model's output.\n",
    "* Generate random target labels for a 3-class classification task\n",
    "* Compute the classification loss using nn.CrossEntropyLoss\n",
    "\n",
    "**Hint**: Use torch.randint() for generating random target labels and nn.CrossEntropyLoss() for the loss function."
   ]
  },
  {
   "cell_type": "code",
   "execution_count": 95,
   "metadata": {
    "id": "frkwQz0vIGxS"
   },
   "outputs": [
    {
     "name": "stdout",
     "output_type": "stream",
     "text": [
      "Cross-Entropy Loss: 1.0845\n"
     ]
    }
   ],
   "source": [
    "logits = torch.tensor([[1.0, 2.0, 0.5], [1.5, 0.2, 1.7], [0.4, 0.8, 2.1]], dtype=torch.float32)\n",
    "\n",
    "labels = torch.tensor([1, 2, 0], dtype=torch.long)\n",
    "\n",
    "# Define the CrossEntropyLoss function\n",
    "loss_fun = nn.CrossEntropyLoss()\n",
    "\n",
    "# Compute the loss\n",
    "loss = loss_fun(logits, labels)\n",
    "\n",
    "print(f\"Cross-Entropy Loss: {loss.item():.4f}\")"
   ]
  },
  {
   "cell_type": "markdown",
   "metadata": {
    "id": "wSO1nyKkCKmI"
   },
   "source": [
    "\n",
    "\n",
    "---\n",
    "\n"
   ]
  },
  {
   "cell_type": "markdown",
   "metadata": {
    "id": "5cg8Swd2YAWD"
   },
   "source": [
    "### **Task:** Habitat Threat Detector\n",
    "\n",
    "In the sanctuary, camera drones monitor animal habitats for threats like poaching activities or habitat damage. Your task as an AI Engineer is to build an AI system to detect whether an image shows a threat from the provided dataset **(habitat_images_codebasics_DL.csv)**."
   ]
  },
  {
   "cell_type": "markdown",
   "metadata": {
    "id": "PIokYWC0YP4L"
   },
   "source": [
    "**Dataset Overview**\n",
    "\n",
    "The dataset **habitat_images_codebasics_DL.csv** contains the following features:\n",
    "\n",
    "* Image Brightness (float): Represents how bright or dark the image is.\n",
    "* Movement Intensity (float): Measures activity detected in the image.\n",
    "* Number of Shapes Detected (integer): Indicates potential objects in the image.\n",
    "* Noise Level (float): A measure of distortions in the image.\n",
    "* Threat Label (0 or 1): 0 for no threat, 1 for a threat."
   ]
  },
  {
   "cell_type": "markdown",
   "metadata": {
    "id": "7_9Qhmdfb-i6"
   },
   "source": [
    "**Step 1:** Load and Split the Dataset\n",
    "\n"
   ]
  },
  {
   "cell_type": "code",
   "execution_count": 96,
   "metadata": {
    "id": "Rogs1y3WZetS"
   },
   "outputs": [],
   "source": [
    "df = pd.read_csv(\"../datasets/habitat_images.csv\")\n",
    "df.head()\n",
    "# # Separate input features and labels\n",
    "X = df[['Image Brightness', 'Movement Intensity', 'Number of Shapes Detected', 'Noise Level']]\n",
    "y = df['Threat Label']"
   ]
  },
  {
   "cell_type": "markdown",
   "metadata": {
    "id": "_vNDgGL0CgGg"
   },
   "source": [
    "\n",
    "\n",
    "---\n",
    "\n"
   ]
  },
  {
   "cell_type": "markdown",
   "metadata": {
    "id": "BEeQyboLTPp7"
   },
   "source": [
    "**Step 2:** Normalize the input feature"
   ]
  },
  {
   "cell_type": "code",
   "execution_count": 97,
   "metadata": {
    "id": "pIGSwZ2BTUbI"
   },
   "outputs": [],
   "source": [
    "X = (X - X.min(axis=0)) / (X.max(axis=0) - X.min(axis=0))"
   ]
  },
  {
   "cell_type": "markdown",
   "metadata": {
    "id": "B6bZjpy1CNsy"
   },
   "source": [
    "\n",
    "\n",
    "---\n",
    "\n"
   ]
  },
  {
   "cell_type": "markdown",
   "metadata": {
    "id": "GiDwdn7ATcTZ"
   },
   "source": [
    "**Step3:** Convert to PyTorch tensors\n"
   ]
  },
  {
   "cell_type": "code",
   "execution_count": 98,
   "metadata": {
    "id": "adHSY6CYTlyT"
   },
   "outputs": [],
   "source": [
    "X = torch.tensor(X.values, dtype=torch.float32)\n",
    "y = torch.tensor(y.values, dtype=torch.float32).unsqueeze(1)  # Reshape to match the model output"
   ]
  },
  {
   "cell_type": "markdown",
   "metadata": {
    "id": "4liDHApDCOZS"
   },
   "source": [
    "\n",
    "\n",
    "---\n",
    "\n"
   ]
  },
  {
   "cell_type": "markdown",
   "metadata": {
    "id": "d4qB9eZCTmVj"
   },
   "source": [
    "**Step4**: Perform an **70%-30%** train-validation split."
   ]
  },
  {
   "cell_type": "code",
   "execution_count": 99,
   "metadata": {
    "id": "oW355OZ2TnEf"
   },
   "outputs": [],
   "source": [
    "X_train, X_test, y_train, y_test = train_test_split(X, y, test_size = 0.3, random_state = 42)"
   ]
  },
  {
   "cell_type": "markdown",
   "metadata": {
    "id": "o8vOlfDOCSP_"
   },
   "source": [
    "\n",
    "\n",
    "---\n",
    "\n"
   ]
  },
  {
   "cell_type": "markdown",
   "metadata": {
    "id": "sqR6Q2xXT9kN"
   },
   "source": [
    "**Step5**: Create DataLoader for batch processing"
   ]
  },
  {
   "cell_type": "code",
   "execution_count": 100,
   "metadata": {
    "id": "hfVYt4wRUAgV"
   },
   "outputs": [],
   "source": [
    "train_data = TensorDataset(X_train, y_train)\n",
    "test_data = TensorDataset(X_test, y_test)\n",
    "train_loader = DataLoader(train_data, batch_size=16, shuffle=True)\n",
    "test_loader = DataLoader(test_data, batch_size=16, shuffle=False)"
   ]
  },
  {
   "cell_type": "markdown",
   "metadata": {
    "id": "VEEbzWfpCWJd"
   },
   "source": [
    "\n",
    "\n",
    "---\n",
    "\n"
   ]
  },
  {
   "cell_type": "markdown",
   "metadata": {
    "id": "4MZtV-f_cMi9"
   },
   "source": [
    "**Step 6:** Define the Neural Network\n",
    "\n",
    "* Input layer with 4 features.\n",
    "* One hidden layer with 8 neurons (ReLU activation).\n",
    "* Output layer with 1 neuron (Sigmoid activation for binary classification)."
   ]
  },
  {
   "cell_type": "code",
   "execution_count": 101,
   "metadata": {
    "id": "OzjTQoEYcXv-"
   },
   "outputs": [],
   "source": [
    "class ThreatDetector(nn.Module):\n",
    "    def __init__(self):\n",
    "        super(ThreatDetector, self).__init__()\n",
    "        self.network = nn.Sequential(\n",
    "            nn.Linear(4, 8),    # Input: 4 features, Hidden layer: 8 neurons\n",
    "            nn.ReLU(),          # Activation: ReLU\n",
    "            nn.Linear(8,1),    # Output: 1 neuron\n",
    "            nn.Sigmoid()        # Activation: Sigmoid (for binary classification)\n",
    "        )\n",
    "\n",
    "    def forward(self, x):\n",
    "        return self.network(x)\n",
    "\n",
    "# Instantiate the model\n",
    "model = ThreatDetector()\n"
   ]
  },
  {
   "cell_type": "markdown",
   "metadata": {
    "id": "mdGIL4AgCXbO"
   },
   "source": [
    "\n",
    "\n",
    "---\n",
    "\n"
   ]
  },
  {
   "cell_type": "markdown",
   "metadata": {
    "id": "geUtDQ-AUghS"
   },
   "source": [
    "**Step7**: Define Loss and Optimizer\n",
    "\n",
    "* Optimizer: Adam\n",
    "* Loss: BCE Loss\n",
    "* Learning rate: 0.01"
   ]
  },
  {
   "cell_type": "code",
   "execution_count": 102,
   "metadata": {
    "id": "0lCy2REGUl5A"
   },
   "outputs": [],
   "source": [
    "# Binary Cross-Entropy Loss\n",
    "BCE_loss = nn.BCELoss()\n",
    "\n",
    "# Adam Optimizer\n",
    "optimizer = optim.Adam(model.parameters(), lr=0.01)"
   ]
  },
  {
   "cell_type": "markdown",
   "metadata": {
    "id": "uhvb58nVCY1M"
   },
   "source": [
    "\n",
    "\n",
    "---\n",
    "\n"
   ]
  },
  {
   "cell_type": "markdown",
   "metadata": {
    "id": "VMDovUEJcZe0"
   },
   "source": [
    "**Step 8**: Train the Neural Network\n",
    "\n",
    "* Train the model for 20 epochs"
   ]
  },
  {
   "cell_type": "code",
   "execution_count": 103,
   "metadata": {
    "id": "edU_flFQdgMH"
   },
   "outputs": [
    {
     "name": "stdout",
     "output_type": "stream",
     "text": [
      "Epoch 100/1000, Loss: 0.0978\n",
      "Epoch 200/1000, Loss: 0.0386\n",
      "Epoch 300/1000, Loss: 0.0216\n",
      "Epoch 400/1000, Loss: 0.0078\n",
      "Epoch 500/1000, Loss: 0.0045\n",
      "Epoch 600/1000, Loss: 0.0028\n",
      "Epoch 700/1000, Loss: 0.0019\n",
      "Epoch 800/1000, Loss: 0.0012\n",
      "Epoch 900/1000, Loss: 0.0009\n",
      "Epoch 1000/1000, Loss: 0.0007\n"
     ]
    }
   ],
   "source": [
    "def train_model(model, train_loader, BCE_loss, optimizer, epochs=20):\n",
    "    for epoch in range(epochs):\n",
    "        model.train()\n",
    "        epoch_loss = 0  # Initialize loss for this epoch\n",
    "\n",
    "        for X_batch, y_batch in train_loader:\n",
    "            # Forward pass\n",
    "            logits = model(X_batch).squeeze()  # Ensure shape matches y_batch\n",
    "            loss = BCE_loss(logits, y_batch.squeeze())\n",
    "\n",
    "            # Backward pass\n",
    "            optimizer.zero_grad()\n",
    "            loss.backward()\n",
    "            optimizer.step()\n",
    "\n",
    "            epoch_loss += loss.item()\n",
    "\n",
    "        # Print every 10 epochs\n",
    "        if (epoch + 1) % 100 == 0:\n",
    "            print(f\"Epoch {epoch+1}/{epochs}, Loss: {epoch_loss / len(train_loader):.4f}\")\n",
    "\n",
    "\n",
    "# Train the model\n",
    "train_model(model, train_loader, BCE_loss, optimizer, epochs=1000)\n"
   ]
  },
  {
   "cell_type": "markdown",
   "metadata": {
    "id": "qGsCOWreCZ2F"
   },
   "source": [
    "\n",
    "\n",
    "---\n",
    "\n"
   ]
  },
  {
   "cell_type": "markdown",
   "metadata": {
    "id": "s7YoTEEddiwA"
   },
   "source": [
    "**Step 9:** Evaluate the Model\n",
    "\n",
    "* Calculate the accuracy and loss on a test dataset.\n",
    "* Use a confusion matrix to evaluate the system’s performance."
   ]
  },
  {
   "cell_type": "code",
   "execution_count": 104,
   "metadata": {
    "id": "rxDluCzUWBls"
   },
   "outputs": [
    {
     "name": "stdout",
     "output_type": "stream",
     "text": [
      "Accuracy: 1.00\n"
     ]
    },
    {
     "data": {
      "image/png": "[encoded data removed]",
      "text/plain": [
       "<Figure size 640x480 with 2 Axes>"
      ]
     },
     "metadata": {},
     "output_type": "display_data"
    }
   ],
   "source": [
    "def evaluate_model(model, test_loader):\n",
    "    model.eval()\n",
    "    all_preds = []\n",
    "    all_labels = []\n",
    "\n",
    "    with torch.no_grad():\n",
    "        for X_batch, y_batch in test_loader:\n",
    "            outputs = model(X_batch).squeeze()\n",
    "            all_preds.extend((outputs >= 0.5).int().tolist())  # Convert predictions to binary (threshold = 0.5)\n",
    "            all_labels.extend(y_batch.squeeze().tolist())\n",
    "\n",
    "    # Accuracy\n",
    "    accuracy = accuracy_score(all_labels, all_preds)\n",
    "    print(f\"Accuracy: {accuracy:.2f}\")\n",
    "\n",
    "    # Confusion Matrix\n",
    "    cm = confusion_matrix(all_labels, all_preds)\n",
    "    sns.heatmap(cm, annot=True, fmt=\"d\", cmap=\"Blues\")\n",
    "    plt.xlabel(\"Predicted\")\n",
    "    plt.ylabel(\"Actual\")\n",
    "    plt.title(\"Confusion Matrix\")\n",
    "    plt.show()\n",
    "\n",
    "evaluate_model(model, test_loader)"
   ]
  },
  {
   "cell_type": "markdown",
   "metadata": {
    "id": "2inPw3AICa1E"
   },
   "source": [
    "\n",
    "\n",
    "---\n",
    "\n"
   ]
  }
 ],
 "metadata": {
  "colab": {
   "provenance": []
  },
  "kernelspec": {
   "display_name": "Python [conda env:base] *",
   "language": "python",
   "name": "conda-base-py"
  },
  "language_info": {
   "codemirror_mode": {
    "name": "ipython",
    "version": 3
   },
   "file_extension": ".py",
   "mimetype": "text/x-python",
   "name": "python",
   "nbconvert_exporter": "python",
   "pygments_lexer": "ipython3",
   "version": "3.12.7"
  }
 },
 "nbformat": 4,
 "nbformat_minor": 4
}
