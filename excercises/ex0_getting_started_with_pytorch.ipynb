{
  "nbformat": 4,
  "nbformat_minor": 0,
  "metadata": {
    "colab": {
      "provenance": [],
      "gpuType": "T4"
    },
    "kernelspec": {
      "name": "python3",
      "display_name": "Python 3"
    },
    "language_info": {
      "name": "python"
    },
    "accelerator": "GPU"
  },
  "cells": [
    {
      "cell_type": "markdown",
      "source": [
        "# Problem Statement: **Welcome to AI Town!**\n",
        "\n",
        "### You’ve been hired as an AI engineer in **AI Town**, a futuristic city powered by artificial intelligence. Your job is to use PyTorch to solve foundational challenges that AI Town faces. Each task requires you to demonstrate your expertise with PyTorch basics."
      ],
      "metadata": {
        "id": "q7UkbxIuOsEb"
      }
    },
    {
      "cell_type": "markdown",
      "source": [
        "\n",
        "\n",
        "---\n",
        "\n"
      ],
      "metadata": {
        "id": "gwD-rhXXnhIz"
      }
    },
    {
      "cell_type": "markdown",
      "source": [
        "Imports and CUDA"
      ],
      "metadata": {
        "id": "6JwL8-81yLWK"
      }
    },
    {
      "cell_type": "code",
      "source": [
        "import torch\n",
        "\n",
        "# Check if CUDA (GPU) is available\n",
        "device = torch.device('cuda' if torch.cuda.is_available() else 'cpu')\n",
        "print(f\"Using device: {device}\")\n"
      ],
      "metadata": {
        "id": "yR0_z_79yKEK",
        "colab": {
          "base_uri": "https://localhost:8080/"
        },
        "outputId": "d426deb4-0dc0-4a85-c9c4-90c6f22f380c"
      },
      "execution_count": null,
      "outputs": [
        {
          "output_type": "stream",
          "name": "stdout",
          "text": [
            "Using device: cuda\n"
          ]
        }
      ]
    },
    {
      "cell_type": "markdown",
      "source": [
        "\n",
        "\n",
        "---\n",
        "\n"
      ],
      "metadata": {
        "id": "6iiOkre3ye0n"
      }
    },
    {
      "cell_type": "markdown",
      "source": [
        "**Task1: Inventory Management**\n",
        "\n",
        "AI Town’s warehouse uses sensors to record the inventory of 5 items every day. Each day’s data is represented as a list of integers (number of units)."
      ],
      "metadata": {
        "id": "iGT8uIK2nzxa"
      }
    },
    {
      "cell_type": "code",
      "source": [
        "#1 Create a PyTorch Tensor from the following inventory data\n",
        "inventory = [[12, 15, 10, 0, 5],\n",
        "             [10, 8, 7, 5, 4],\n",
        "             [20, 10, 15, 5, 2]]\n",
        "\n",
        "inventory_tensor = torch.tensor(inventory)\n",
        "print(inventory_tensor)"
      ],
      "metadata": {
        "id": "yQj9yyF-pADV",
        "colab": {
          "base_uri": "https://localhost:8080/"
        },
        "outputId": "f184539a-1c1c-43a4-c1ca-7cc607f53d96"
      },
      "execution_count": null,
      "outputs": [
        {
          "output_type": "stream",
          "name": "stdout",
          "text": [
            "tensor([[12, 15, 10,  0,  5],\n",
            "        [10,  8,  7,  5,  4],\n",
            "        [20, 10, 15,  5,  2]])\n"
          ]
        }
      ]
    },
    {
      "cell_type": "code",
      "source": [
        "#2 Find the total inventory for each item across all days\n",
        "total_inventory = inventory_tensor.sum(dim=0) # sum across rows\n",
        "print(total_inventory)"
      ],
      "metadata": {
        "id": "piee_hPCo-VW",
        "colab": {
          "base_uri": "https://localhost:8080/"
        },
        "outputId": "22af04ec-fa8c-4a08-d1f0-6115c68dff22"
      },
      "execution_count": null,
      "outputs": [
        {
          "output_type": "stream",
          "name": "stdout",
          "text": [
            "tensor([42, 33, 32, 10, 11])\n"
          ]
        }
      ]
    },
    {
      "cell_type": "code",
      "execution_count": null,
      "metadata": {
        "id": "O-0F3R8uObWT",
        "colab": {
          "base_uri": "https://localhost:8080/"
        },
        "outputId": "85b47f1b-6c3f-4dec-d2aa-4293f112f6c5"
      },
      "outputs": [
        {
          "output_type": "stream",
          "name": "stdout",
          "text": [
            "tensor([ 8.4000,  6.8000, 10.4000])\n"
          ]
        }
      ],
      "source": [
        "#3 Find the average inventory per day\n",
        "'''mean() function in PyTorch requires the tensor to be a floating-point type (e.g., float32 or float64)\n",
        "'''\n",
        "average_inventory = inventory_tensor.float().mean(dim=1) # mean across columns\n",
        "print(average_inventory)"
      ]
    },
    {
      "cell_type": "markdown",
      "source": [
        "OR"
      ],
      "metadata": {
        "id": "UHS0U9Ns3bv4"
      }
    },
    {
      "cell_type": "code",
      "source": [
        "average_inventory = inventory_tensor.mean(dim=1, dtype=torch.float32) # mean across columns\n",
        "print(average_inventory)"
      ],
      "metadata": {
        "colab": {
          "base_uri": "https://localhost:8080/"
        },
        "id": "0qbJ2MyL3lET",
        "outputId": "080425be-53f9-4faf-d6ac-49e57ddce605"
      },
      "execution_count": null,
      "outputs": [
        {
          "output_type": "stream",
          "name": "stdout",
          "text": [
            "tensor([ 8.4000,  6.8000, 10.4000])\n"
          ]
        }
      ]
    },
    {
      "cell_type": "markdown",
      "source": [
        "**KEY INSIGHTS**\n",
        "\n",
        "* dim=0 means summing across rows (column-wise), while dim=1 sums across columns (row-wise).\n",
        "* Tensor operations are efficient and avoid explicit loops."
      ],
      "metadata": {
        "id": "ybAxCd7S5lAQ"
      }
    },
    {
      "cell_type": "markdown",
      "source": [
        "\n",
        "\n",
        "---\n",
        "\n"
      ],
      "metadata": {
        "id": "4eWH3-JBycim"
      }
    },
    {
      "cell_type": "markdown",
      "source": [
        "**Task2: Monitoring Vehicle Flow**\n",
        "\n",
        "AI Town uses a sensor to monitor the number of vehicles passing through two main roads every hour. The data for one day (24 hours) is represented as two\n",
        "1×24 tensors."
      ],
      "metadata": {
        "id": "jqsNZz1VpDTB"
      }
    },
    {
      "cell_type": "code",
      "source": [
        "#1 Simulate this data using PyTorch's Random Functions\n",
        "road1 = torch.randint(50, 200, (24,))\n",
        "road2 = torch.randint(50, 200, (24,))\n",
        "print(road1)\n",
        "print(road2)"
      ],
      "metadata": {
        "id": "v0N1_20upZV0",
        "colab": {
          "base_uri": "https://localhost:8080/"
        },
        "outputId": "4a40237b-8645-4e42-921b-6b72c90e808c"
      },
      "execution_count": null,
      "outputs": [
        {
          "output_type": "stream",
          "name": "stdout",
          "text": [
            "tensor([194,  56, 117,  86, 173,  55, 108,  55,  83, 133, 119,  68, 138, 140,\n",
            "        186,  67, 130,  82, 136, 122, 141, 161,  94, 133])\n",
            "tensor([ 91,  89,  54, 120,  56,  64, 176, 115, 150,  74, 175, 160, 107, 149,\n",
            "         96,  87,  62, 186, 107, 163, 185, 166, 177, 148])\n"
          ]
        }
      ]
    },
    {
      "cell_type": "code",
      "source": [
        "#2 Write the function to calculate the total vehicle flow for each road across the entire day\n",
        "total_flow_road1 = road1.sum() # total for road1\n",
        "total_flow_road2 = road2.sum() # total for road2\n",
        "print(total_flow_road1)\n",
        "print(total_flow_road2)"
      ],
      "metadata": {
        "id": "o2ldiyONpkp_",
        "colab": {
          "base_uri": "https://localhost:8080/"
        },
        "outputId": "52c903d9-a04e-41b2-8983-31cb0fea1af5"
      },
      "execution_count": null,
      "outputs": [
        {
          "output_type": "stream",
          "name": "stdout",
          "text": [
            "tensor(2777)\n",
            "tensor(2957)\n"
          ]
        }
      ]
    },
    {
      "cell_type": "code",
      "source": [
        "#3 Write the function to calculate the total vehicle flow for each hour across both roads\n",
        "total_flow_hourly  = road1 + road2\n",
        "print()\n"
      ],
      "metadata": {
        "id": "PP1ukEgXpvl_",
        "colab": {
          "base_uri": "https://localhost:8080/"
        },
        "outputId": "6a9d7cc6-7690-40f1-eb15-885a37cd8442"
      },
      "execution_count": null,
      "outputs": [
        {
          "output_type": "stream",
          "name": "stdout",
          "text": [
            "tensor([285, 145, 171, 206, 229, 119, 284, 170, 233, 207, 294, 228, 245, 289,\n",
            "        282, 154, 192, 268, 243, 285, 326, 327, 271, 281])\n"
          ]
        }
      ]
    },
    {
      "cell_type": "markdown",
      "source": [
        "**KEY INSIGHTS**\n",
        "\n",
        "* Use torch.randint() for simulating random data in a specific range.\n",
        "* Element-wise addition works seamlessly on tensors of the same shape.\n",
        "\n",
        "---\n",
        "\n"
      ],
      "metadata": {
        "id": "wkp5wRVHygcH"
      }
    },
    {
      "cell_type": "markdown",
      "source": [
        "**Task3: Fitness Matrix**\n",
        "\n",
        "The AI Gym tracks members’ fitness scores using a 3×3 matrix for *strength*, *stamina*, and f*lexibility*. Each row represents a different member, and each column represents a specific metric."
      ],
      "metadata": {
        "id": "9_03v1baqBBB"
      }
    },
    {
      "cell_type": "code",
      "source": [
        "#1 Create a 3*3 tensor matrix and multiply the scores of each member by a weight factor: [0.8, 1.2, 1.5]\n",
        "fitness = torch.tensor([[10, 20, 30],\n",
        "                        [40, 50, 60],\n",
        "                        [70, 80, 90]])\n",
        "weights = torch.tensor([0.8, 1.2, 1.5])\n",
        "weighted_fitness = weights * fitness\n",
        "print(weighted_fitness)"
      ],
      "metadata": {
        "id": "GlQTZKI6rZ5X",
        "colab": {
          "base_uri": "https://localhost:8080/"
        },
        "outputId": "76949446-bdca-4d77-9718-5de0c0bdef77"
      },
      "execution_count": null,
      "outputs": [
        {
          "output_type": "stream",
          "name": "stdout",
          "text": [
            "tensor([[  8.0000,  24.0000,  45.0000],\n",
            "        [ 32.0000,  60.0000,  90.0000],\n",
            "        [ 56.0000,  96.0000, 135.0000]])\n"
          ]
        }
      ]
    },
    {
      "cell_type": "code",
      "source": [
        "#2 Find the row-wise and column-wise maximum scores\n",
        "row_max = weighted_fitness.max(dim=1) # max for each row\n",
        "col_max = weighted_fitness.max(dim=0) # max for each column\n",
        "print(row_max)\n",
        "print(col_max)"
      ],
      "metadata": {
        "id": "_uce_-rXr1un",
        "colab": {
          "base_uri": "https://localhost:8080/"
        },
        "outputId": "6680f6b5-d7f5-413d-a932-e93b9f5032dc"
      },
      "execution_count": null,
      "outputs": [
        {
          "output_type": "stream",
          "name": "stdout",
          "text": [
            "torch.return_types.max(\n",
            "values=tensor([ 45.,  90., 135.]),\n",
            "indices=tensor([2, 2, 2]))\n",
            "torch.return_types.max(\n",
            "values=tensor([ 56.,  96., 135.]),\n",
            "indices=tensor([2, 2, 2]))\n"
          ]
        }
      ]
    },
    {
      "cell_type": "code",
      "source": [
        "#3 Transpose the fitness matrix and interpret it's new structure (shape)\n",
        "transposed_fitness = fitness.t()\n",
        "print(transposed_fitness)\n"
      ],
      "metadata": {
        "id": "WIapNxZ6r4Dn",
        "colab": {
          "base_uri": "https://localhost:8080/"
        },
        "outputId": "93a48c8f-b6ee-43da-9146-b31e30bb4dd9"
      },
      "execution_count": null,
      "outputs": [
        {
          "output_type": "stream",
          "name": "stdout",
          "text": [
            "tensor([[10, 40, 70],\n",
            "        [20, 50, 80],\n",
            "        [30, 60, 90]])\n"
          ]
        }
      ]
    },
    {
      "cell_type": "markdown",
      "source": [
        "**KEY INSIGHTS**\n",
        "\n",
        "Learn [Broadcasting](https://pytorch.org/docs/stable/notes/broadcasting.html) and do changes in 'weighted fitness', the output will remain the same"
      ],
      "metadata": {
        "id": "PccixyJg-T5I"
      }
    },
    {
      "cell_type": "markdown",
      "source": [
        "\n",
        "\n",
        "---\n",
        "\n"
      ],
      "metadata": {
        "id": "LlDlQS0Vyh8W"
      }
    },
    {
      "cell_type": "markdown",
      "source": [
        "**Task4: Chain Rule in Action**\n",
        "\n",
        "AI Lab is running experiments to understand the effect of temperature (\n",
        "x) on a chemical reaction rate (y). The relationship is given as:\n",
        "$y = 2x^3 + 5x^2 - 3x + 7$\n",
        "\n"
      ],
      "metadata": {
        "id": "03ROjCDosA1-"
      }
    },
    {
      "cell_type": "code",
      "source": [
        "#1 Use PyTorch to compute 'y' for x = 4\n",
        "\n",
        "# let's define x first\n",
        "x = torch.tensor(4.0, requires_grad=True)\n",
        "\n",
        "# now define y\n",
        "y = 2*x**3 + 5*x**2 - 3*x + 7\n",
        "\n",
        "print(y)\n"
      ],
      "metadata": {
        "id": "3A33YR0QvHjn",
        "colab": {
          "base_uri": "https://localhost:8080/"
        },
        "outputId": "5228a4c0-c5fe-4f0b-9285-f29ee89aa380"
      },
      "execution_count": null,
      "outputs": [
        {
          "output_type": "stream",
          "name": "stdout",
          "text": [
            "tensor(203., grad_fn=<AddBackward0>)\n"
          ]
        }
      ]
    },
    {
      "cell_type": "code",
      "source": [
        "#2 Calculate dy/dx (gradient) using PyTorch's autograd\n",
        "y.backward(retain_graph = True)\n",
        "gradient = x.grad\n",
        "\n",
        "print(gradient)"
      ],
      "metadata": {
        "colab": {
          "base_uri": "https://localhost:8080/"
        },
        "id": "CJRlzdjJ_hZ_",
        "outputId": "da0c2711-9e58-489f-c39f-0c5f3a41f4e4"
      },
      "execution_count": null,
      "outputs": [
        {
          "output_type": "stream",
          "name": "stdout",
          "text": [
            "tensor(133.)\n"
          ]
        }
      ]
    },
    {
      "cell_type": "markdown",
      "source": [
        "**KEY INSIGHTS**\n",
        "\n",
        "* If you need to call .backward() on the same graph multiple times, you need to specify retain_graph=True when calling .backward()\n",
        "* *WHY*? because in PyTorch, the computational graph used for the operation is freed by default to save memory"
      ],
      "metadata": {
        "id": "i2gocgOp_tXu"
      }
    },
    {
      "cell_type": "markdown",
      "source": [
        "\n",
        "\n",
        "---\n",
        "\n"
      ],
      "metadata": {
        "id": "cWs5gdmiylYe"
      }
    },
    {
      "cell_type": "markdown",
      "source": [
        "**Task5: Camera Calibration**\n",
        "\n",
        "AI Town’s surveillance cameras need to align their focus. You are given the following matrices for two cameras’ focus adjustments:"
      ],
      "metadata": {
        "id": "12iKFr_NwC7d"
      }
    },
    {
      "cell_type": "code",
      "source": [
        "camera1 = torch.tensor([[1, 2], [3, 4]])\n",
        "camera2 = torch.tensor([[5, 6], [7, 8]])"
      ],
      "metadata": {
        "id": "3syFy2GlwLRZ"
      },
      "execution_count": null,
      "outputs": []
    },
    {
      "cell_type": "code",
      "source": [
        "#1 Perform an element-wise multiplication of matrices ( Hadamard Product)\n",
        "elementwise_product = camera1 * camera2\n",
        "print(elementwise_product)"
      ],
      "metadata": {
        "id": "xJH8T-85wO_B",
        "colab": {
          "base_uri": "https://localhost:8080/"
        },
        "outputId": "0ccbe8dc-83ee-4c8a-8447-f5c4ddb0b671"
      },
      "execution_count": null,
      "outputs": [
        {
          "output_type": "stream",
          "name": "stdout",
          "text": [
            "tensor([[ 5, 12],\n",
            "        [21, 32]])\n"
          ]
        }
      ]
    },
    {
      "cell_type": "code",
      "source": [
        "#2 Compute Dot Product of the two matrices\n",
        "dot_product = torch.matmul(camera1, camera2)\n",
        "print(dot_product)"
      ],
      "metadata": {
        "id": "yL5otP3FwZY8",
        "colab": {
          "base_uri": "https://localhost:8080/"
        },
        "outputId": "37ce322f-9435-416f-9765-2d51596a7762"
      },
      "execution_count": null,
      "outputs": [
        {
          "output_type": "stream",
          "name": "stdout",
          "text": [
            "tensor([[19, 22],\n",
            "        [43, 50]])\n"
          ]
        }
      ]
    },
    {
      "cell_type": "code",
      "source": [
        "#3 Compute the Determinant of each matrix\n",
        "det_camera1 = torch.det(camera1.float())\n",
        "det_camera2 = torch.det(camera2.float())\n",
        "print(det_camera1)\n",
        "print(det_camera2)"
      ],
      "metadata": {
        "id": "97dWTkQzxBaH",
        "colab": {
          "base_uri": "https://localhost:8080/"
        },
        "outputId": "de72867a-0f80-4ea6-9c4f-ddce929222ce"
      },
      "execution_count": null,
      "outputs": [
        {
          "output_type": "stream",
          "name": "stdout",
          "text": [
            "tensor(-2.)\n",
            "tensor(-2.0000)\n"
          ]
        }
      ]
    },
    {
      "cell_type": "markdown",
      "source": [
        "**KEY INSIGHTS**:\n",
        "\n",
        "* Use **torch.matmul()** for matrix multiplication and \"*\" for element-wise multiplication.\n",
        "* Determinants work only on square matrices."
      ],
      "metadata": {
        "id": "2If1xLjhBFBY"
      }
    },
    {
      "cell_type": "markdown",
      "source": [
        "\n",
        "\n",
        "---\n",
        "\n"
      ],
      "metadata": {
        "id": "dtQXmntaym2T"
      }
    },
    {
      "cell_type": "markdown",
      "source": [
        "**Task6: Neural Network Foundations**\n",
        "\n",
        "Our AI University uses simplified single neuron model (perceptron):\n",
        "$$y = wx + b$$"
      ],
      "metadata": {
        "id": "tA6tObX4xFLE"
      }
    },
    {
      "cell_type": "code",
      "source": [
        "#1 Create tensors for w  = 2, b = 1, x = [1, 2, 3, 4]\n",
        "w = torch.tensor(2.0, requires_grad=True)\n",
        "b = torch.tensor(1.0, requires_grad=True)\n",
        "\n",
        "x = torch.tensor([1, 2, 3, 4])\n",
        "print(w)\n",
        "print(b)\n",
        "print(x)"
      ],
      "metadata": {
        "id": "CAynFZXZxf53",
        "colab": {
          "base_uri": "https://localhost:8080/"
        },
        "outputId": "5674d3fb-6c15-44ca-9eca-a64c426d6b3e"
      },
      "execution_count": null,
      "outputs": [
        {
          "output_type": "stream",
          "name": "stdout",
          "text": [
            "tensor(2., requires_grad=True)\n",
            "tensor(1., requires_grad=True)\n",
            "tensor([1, 2, 3, 4])\n"
          ]
        }
      ]
    },
    {
      "cell_type": "code",
      "source": [
        "#2 Compute tensors for y\n",
        "y = w * x + b\n",
        "print(y)"
      ],
      "metadata": {
        "id": "sAtHYFNDxqy-",
        "colab": {
          "base_uri": "https://localhost:8080/"
        },
        "outputId": "875c9af5-1983-4dba-956b-0bdb869d5ecc"
      },
      "execution_count": null,
      "outputs": [
        {
          "output_type": "stream",
          "name": "stdout",
          "text": [
            "tensor([3., 5., 7., 9.], grad_fn=<AddBackward0>)\n"
          ]
        }
      ]
    },
    {
      "cell_type": "markdown",
      "source": [
        "PyTorch tracks gradients for all **requires_grad=True** tensors."
      ],
      "metadata": {
        "id": "QBIWS6CQCFOS"
      }
    },
    {
      "cell_type": "markdown",
      "source": [
        "\n",
        "\n",
        "---\n",
        "\n"
      ],
      "metadata": {
        "id": "3PLDt7oKyoI6"
      }
    }
  ]
}