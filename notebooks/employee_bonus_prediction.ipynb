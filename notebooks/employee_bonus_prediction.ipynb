{
 "cells": [
  {
   "cell_type": "code",
   "execution_count": 63,
   "id": "f503083b-9c19-4319-8588-56ae8f2c5b41",
   "metadata": {},
   "outputs": [],
   "source": [
    "import numpy as np\n",
    "import pandas as pd\n",
    "\n",
    "# Setting Random Seed for Reproducability\n",
    "np.random.seed(42)\n",
    "\n",
    "#Number of Samples\n",
    "n_samples = 1000\n",
    "\n",
    "# True Weights and bias(ground truth)\n",
    "true_w1 = 12\n",
    "true_w2 = 6\n",
    "true_w3 = 2\n",
    "true_bias = 20\n",
    "\n",
    "#Generate Random Data for Features\n",
    "employee_id = np.array([f\"EMP_{i:03}\" for i in range(1, n_samples+1)])\n",
    "performance = np.random.randint(1,11, n_samples) # Performance: 1 to 10\n",
    "years_of_experience = np.random.randint(1,11,n_samples)\n",
    "projects_completed = years_of_experience + np.random.randint(1,4, n_samples)\n",
    "\n",
    "# Calculate the target variable(bonus) using the true weights and bias\n",
    "bonus = (true_w1 * performance) + (true_w2 * years_of_experience) + (true_w3 * projects_completed) + true_bias\n",
    "\n",
    "# Create a data Frame\n",
    "\n",
    "df =  pd.DataFrame({\n",
    "    'employee_id' : employee_id,\n",
    "    'performance' : performance,\n",
    "    'years_of_experience' : years_of_experience,\n",
    "    'projects_completed' : projects_completed,\n",
    "    'bonus' : bonus\n",
    "})\n",
    "\n",
    "df.to_csv(r\"C:\\Users\\Sumit Sah\\ML Course\\deep-learning-journey\\datasets\\employee_bonus_data.csv\", index=False)"
   ]
  },
  {
   "cell_type": "code",
   "execution_count": 49,
   "id": "c2008f61-c87b-418f-b9a3-10392f42b565",
   "metadata": {},
   "outputs": [
    {
     "data": {
      "text/html": [
       "<div>\n",
       "<style scoped>\n",
       "    .dataframe tbody tr th:only-of-type {\n",
       "        vertical-align: middle;\n",
       "    }\n",
       "\n",
       "    .dataframe tbody tr th {\n",
       "        vertical-align: top;\n",
       "    }\n",
       "\n",
       "    .dataframe thead th {\n",
       "        text-align: right;\n",
       "    }\n",
       "</style>\n",
       "<table border=\"1\" class=\"dataframe\">\n",
       "  <thead>\n",
       "    <tr style=\"text-align: right;\">\n",
       "      <th></th>\n",
       "      <th>employee_id</th>\n",
       "      <th>performance</th>\n",
       "      <th>years_of_experience</th>\n",
       "      <th>projects_completed</th>\n",
       "      <th>bonus</th>\n",
       "    </tr>\n",
       "  </thead>\n",
       "  <tbody>\n",
       "    <tr>\n",
       "      <th>0</th>\n",
       "      <td>EMP_001</td>\n",
       "      <td>7</td>\n",
       "      <td>1</td>\n",
       "      <td>3</td>\n",
       "      <td>116</td>\n",
       "    </tr>\n",
       "    <tr>\n",
       "      <th>1</th>\n",
       "      <td>EMP_002</td>\n",
       "      <td>4</td>\n",
       "      <td>8</td>\n",
       "      <td>10</td>\n",
       "      <td>136</td>\n",
       "    </tr>\n",
       "    <tr>\n",
       "      <th>2</th>\n",
       "      <td>EMP_003</td>\n",
       "      <td>8</td>\n",
       "      <td>4</td>\n",
       "      <td>5</td>\n",
       "      <td>150</td>\n",
       "    </tr>\n",
       "    <tr>\n",
       "      <th>3</th>\n",
       "      <td>EMP_004</td>\n",
       "      <td>5</td>\n",
       "      <td>4</td>\n",
       "      <td>7</td>\n",
       "      <td>118</td>\n",
       "    </tr>\n",
       "    <tr>\n",
       "      <th>4</th>\n",
       "      <td>EMP_005</td>\n",
       "      <td>7</td>\n",
       "      <td>5</td>\n",
       "      <td>6</td>\n",
       "      <td>146</td>\n",
       "    </tr>\n",
       "  </tbody>\n",
       "</table>\n",
       "</div>"
      ],
      "text/plain": [
       "  employee_id  performance  years_of_experience  projects_completed  bonus\n",
       "0     EMP_001            7                    1                   3    116\n",
       "1     EMP_002            4                    8                  10    136\n",
       "2     EMP_003            8                    4                   5    150\n",
       "3     EMP_004            5                    4                   7    118\n",
       "4     EMP_005            7                    5                   6    146"
      ]
     },
     "execution_count": 49,
     "metadata": {},
     "output_type": "execute_result"
    }
   ],
   "source": [
    "df.head()"
   ]
  },
  {
   "cell_type": "code",
   "execution_count": 50,
   "id": "a03c25f1-dc07-4887-9c94-8b8c264f285f",
   "metadata": {},
   "outputs": [
    {
     "data": {
      "text/plain": [
       "(1000, 5)"
      ]
     },
     "execution_count": 50,
     "metadata": {},
     "output_type": "execute_result"
    }
   ],
   "source": [
    "df.shape"
   ]
  },
  {
   "cell_type": "markdown",
   "id": "ea7a7016-5e75-4799-8af5-8aedd7721936",
   "metadata": {},
   "source": [
    "## Building Neural Network using PyTorch"
   ]
  },
  {
   "cell_type": "code",
   "execution_count": 51,
   "id": "580c6c3d-790f-4987-8318-b577680d1478",
   "metadata": {},
   "outputs": [],
   "source": [
    "import torch\n",
    "import torch.nn as nn\n",
    "import torch.optim as optim\n",
    "from sklearn.model_selection import train_test_split"
   ]
  },
  {
   "cell_type": "code",
   "execution_count": 52,
   "id": "626dc683-41cf-46df-af8b-dc307bf4e5c9",
   "metadata": {},
   "outputs": [],
   "source": [
    "X = df[['performance', 'years_of_experience','projects_completed']].values\n",
    "y = df[['bonus']].values\n",
    "\n",
    "# train test split\n",
    "X_train, X_test, y_train, y_test = train_test_split(X, y, test_size = 0.2, random_state =42)"
   ]
  },
  {
   "cell_type": "code",
   "execution_count": 53,
   "id": "7b516326-b486-44a6-bda1-70c8057cc41e",
   "metadata": {},
   "outputs": [
    {
     "data": {
      "text/plain": [
       "(800, 3)"
      ]
     },
     "execution_count": 53,
     "metadata": {},
     "output_type": "execute_result"
    }
   ],
   "source": [
    "X_train.shape"
   ]
  },
  {
   "cell_type": "code",
   "execution_count": 54,
   "id": "dee2c053-b22b-4735-9456-0164abbbd38e",
   "metadata": {},
   "outputs": [
    {
     "data": {
      "text/plain": [
       "(200, 3)"
      ]
     },
     "execution_count": 54,
     "metadata": {},
     "output_type": "execute_result"
    }
   ],
   "source": [
    "X_test.shape"
   ]
  },
  {
   "cell_type": "code",
   "execution_count": 55,
   "id": "64ffd555-6578-4fe6-aee0-cc74e21ac2ab",
   "metadata": {},
   "outputs": [],
   "source": [
    "X_train_tensor = torch.tensor(X_train, dtype = torch.float32)\n",
    "y_train_tensor = torch.tensor(y_train, dtype = torch.float32)\n",
    "X_test_tensor = torch.tensor(X_test, dtype = torch.float32)\n",
    "y_test_tensor = torch.tensor(y_test, dtype = torch.float32)"
   ]
  },
  {
   "cell_type": "code",
   "execution_count": 56,
   "id": "d55db9bd-9bfa-424d-8dd0-e96eabc8beaa",
   "metadata": {},
   "outputs": [
    {
     "name": "stdout",
     "output_type": "stream",
     "text": [
      "Epoch[100/5000] -> Loss: 22.21\n",
      "Epoch[200/5000] -> Loss: 19.27\n",
      "Epoch[300/5000] -> Loss: 16.86\n",
      "Epoch[400/5000] -> Loss: 14.80\n",
      "Epoch[500/5000] -> Loss: 13.00\n",
      "Epoch[600/5000] -> Loss: 11.43\n",
      "Epoch[700/5000] -> Loss: 10.06\n",
      "Epoch[800/5000] -> Loss: 8.85\n",
      "Epoch[900/5000] -> Loss: 7.78\n",
      "Epoch[1000/5000] -> Loss: 6.84\n",
      "Epoch[1100/5000] -> Loss: 6.02\n",
      "Epoch[1200/5000] -> Loss: 5.30\n",
      "Epoch[1300/5000] -> Loss: 4.66\n",
      "Epoch[1400/5000] -> Loss: 4.10\n",
      "Epoch[1500/5000] -> Loss: 3.61\n",
      "Epoch[1600/5000] -> Loss: 3.17\n",
      "Epoch[1700/5000] -> Loss: 2.79\n",
      "Epoch[1800/5000] -> Loss: 2.45\n",
      "Epoch[1900/5000] -> Loss: 2.16\n",
      "Epoch[2000/5000] -> Loss: 1.90\n",
      "Epoch[2100/5000] -> Loss: 1.67\n",
      "Epoch[2200/5000] -> Loss: 1.47\n",
      "Epoch[2300/5000] -> Loss: 1.29\n",
      "Epoch[2400/5000] -> Loss: 1.14\n",
      "Epoch[2500/5000] -> Loss: 1.00\n",
      "Epoch[2600/5000] -> Loss: 0.88\n",
      "Epoch[2700/5000] -> Loss: 0.77\n",
      "Epoch[2800/5000] -> Loss: 0.68\n",
      "Epoch[2900/5000] -> Loss: 0.60\n",
      "Epoch[3000/5000] -> Loss: 0.53\n",
      "Epoch[3100/5000] -> Loss: 0.46\n",
      "Epoch[3200/5000] -> Loss: 0.41\n",
      "Epoch[3300/5000] -> Loss: 0.36\n",
      "Epoch[3400/5000] -> Loss: 0.32\n",
      "Epoch[3500/5000] -> Loss: 0.28\n",
      "Epoch[3600/5000] -> Loss: 0.24\n",
      "Epoch[3700/5000] -> Loss: 0.21\n",
      "Epoch[3800/5000] -> Loss: 0.19\n",
      "Epoch[3900/5000] -> Loss: 0.17\n",
      "Epoch[4000/5000] -> Loss: 0.15\n",
      "Epoch[4100/5000] -> Loss: 0.13\n",
      "Epoch[4200/5000] -> Loss: 0.11\n",
      "Epoch[4300/5000] -> Loss: 0.10\n",
      "Epoch[4400/5000] -> Loss: 0.09\n",
      "Epoch[4500/5000] -> Loss: 0.08\n",
      "Epoch[4600/5000] -> Loss: 0.07\n",
      "Epoch[4700/5000] -> Loss: 0.06\n",
      "Epoch[4800/5000] -> Loss: 0.05\n",
      "Epoch[4900/5000] -> Loss: 0.05\n",
      "Epoch[5000/5000] -> Loss: 0.04\n"
     ]
    }
   ],
   "source": [
    "class BonusPredictor(nn.Module):\n",
    "    def __init__(self):\n",
    "        super().__init__()\n",
    "        self.network = nn.Sequential(\n",
    "            nn.Linear(3,1)\n",
    "            \n",
    "        )\n",
    "    def forward(self, x):\n",
    "        return self.network(x)\n",
    "\n",
    "model = BonusPredictor()\n",
    "criterion = nn.MSELoss()\n",
    "optimizer = optim.SGD(model.parameters(), lr = 0.005)\n",
    "\n",
    "epochs = 5000\n",
    "\n",
    "for epoch in range(epochs):\n",
    "    # 1. Forward Pass\n",
    "    predictions = model(X_train_tensor)\n",
    "    loss = criterion(predictions, y_train_tensor)\n",
    "\n",
    "    # 2. Backward Pass\n",
    "    optimizer.zero_grad()\n",
    "    loss.backward()\n",
    "\n",
    "    # 3. Update Weights\n",
    "    optimizer.step()\n",
    "\n",
    "    #print loss in every 100 epochs\n",
    "    if ((epoch + 1) % 100) == 0:\n",
    "        print(f\"Epoch[{epoch + 1}/{epochs}] -> Loss: {loss.item() :.2f}\")\n",
    "    "
   ]
  },
  {
   "cell_type": "code",
   "execution_count": 57,
   "id": "e103b027-d4ba-47de-974f-e18f08c08737",
   "metadata": {},
   "outputs": [
    {
     "name": "stdout",
     "output_type": "stream",
     "text": [
      "Test Loss :  0.04\n"
     ]
    }
   ],
   "source": [
    "model.eval()\n",
    "\n",
    "with torch.no_grad():\n",
    "    test_predictions = model(X_test_tensor)\n",
    "    test_loss = criterion(test_predictions, y_test_tensor)\n",
    "print(f\"Test Loss : {test_loss.item(): 0.2f}\")"
   ]
  },
  {
   "cell_type": "code",
   "execution_count": 58,
   "id": "fe6aadb9-dddb-4a85-a76b-e5d9c991b806",
   "metadata": {},
   "outputs": [
    {
     "data": {
      "text/plain": [
       "tensor([[ 91.8062],\n",
       "        [130.0900],\n",
       "        [ 85.6190]])"
      ]
     },
     "execution_count": 58,
     "metadata": {},
     "output_type": "execute_result"
    }
   ],
   "source": [
    "test_predictions[:3]"
   ]
  },
  {
   "cell_type": "code",
   "execution_count": 59,
   "id": "b625bee4-0828-4211-b75c-b06f320c779f",
   "metadata": {},
   "outputs": [
    {
     "data": {
      "text/plain": [
       "tensor([[ 92.],\n",
       "        [130.],\n",
       "        [ 86.]])"
      ]
     },
     "execution_count": 59,
     "metadata": {},
     "output_type": "execute_result"
    }
   ],
   "source": [
    "y_test_tensor[:3]"
   ]
  },
  {
   "cell_type": "code",
   "execution_count": 61,
   "id": "d64704aa-08a5-4e0a-a1e5-12fc4f709c60",
   "metadata": {},
   "outputs": [
    {
     "name": "stdout",
     "output_type": "stream",
     "text": [
      "network.0.weight tensor([[12.0336,  5.8464,  2.1832]])\n",
      "network.0.bias tensor([19.2426])\n"
     ]
    }
   ],
   "source": [
    "for name, param in model.named_parameters():\n",
    "    print(name, param.data)"
   ]
  },
  {
   "cell_type": "code",
   "execution_count": null,
   "id": "ea67202d-cbad-40ae-b69b-7fa0fc108a30",
   "metadata": {},
   "outputs": [],
   "source": []
  }
 ],
 "metadata": {
  "kernelspec": {
   "display_name": "Python [conda env:base] *",
   "language": "python",
   "name": "conda-base-py"
  },
  "language_info": {
   "codemirror_mode": {
    "name": "ipython",
    "version": 3
   },
   "file_extension": ".py",
   "mimetype": "text/x-python",
   "name": "python",
   "nbconvert_exporter": "python",
   "pygments_lexer": "ipython3",
   "version": "3.12.7"
  }
 },
 "nbformat": 4,
 "nbformat_minor": 5
}
