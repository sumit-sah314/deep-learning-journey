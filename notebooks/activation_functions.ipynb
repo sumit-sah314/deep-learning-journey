{
 "cells": [
  {
   "cell_type": "markdown",
   "id": "c198a16c",
   "metadata": {},
   "source": [
    "<h2 align=\"center\">Activation Functions</h2>"
   ]
  },
  {
   "cell_type": "code",
   "execution_count": 2,
   "id": "fd724e79",
   "metadata": {},
   "outputs": [],
   "source": [
    "import numpy as np"
   ]
  },
  {
   "cell_type": "markdown",
   "id": "2d5b0c07",
   "metadata": {},
   "source": [
    "### Sigmoid"
   ]
  },
  {
   "cell_type": "code",
   "execution_count": 5,
   "id": "83901374",
   "metadata": {},
   "outputs": [
    {
     "data": {
      "text/plain": [
       "array([0.11920292, 0.26894142, 0.5       , 0.73105858, 0.88079708,\n",
       "       0.9999546 , 1.        , 1.        ])"
      ]
     },
     "execution_count": 5,
     "metadata": {},
     "output_type": "execute_result"
    }
   ],
   "source": [
    "def sigmoid(x):\n",
    "    return 1 / (1 + np.exp(-x))\n",
    "\n",
    "values = np.array([-2, -1, 0, 1, 2, 10, 50, 500])\n",
    "sigmoid(values)"
   ]
  },
  {
   "cell_type": "markdown",
   "id": "c1e34c61",
   "metadata": {},
   "source": [
    "### Softmax"
   ]
  },
  {
   "cell_type": "code",
   "execution_count": 9,
   "id": "9f92f0dd",
   "metadata": {},
   "outputs": [
    {
     "data": {
      "text/plain": [
       "array([0.00164625, 0.24432559, 0.6641458 , 0.08988236])"
      ]
     },
     "execution_count": 9,
     "metadata": {},
     "output_type": "execute_result"
    }
   ],
   "source": [
    "def softmax(x):\n",
    "    exp_x = np.exp(x - np.max(x))  # Subtracting max for numerical stability\n",
    "    return exp_x / exp_x.sum(axis=0)\n",
    "\n",
    "values = np.array([3, 8, 9, 7])\n",
    "softmax(values)"
   ]
  },
  {
   "cell_type": "code",
   "execution_count": 14,
   "id": "5aff65bc",
   "metadata": {},
   "outputs": [
    {
     "data": {
      "text/plain": [
       "1.0"
      ]
     },
     "execution_count": 14,
     "metadata": {},
     "output_type": "execute_result"
    }
   ],
   "source": [
    "sum([0.00164625, 0.24432559, 0.6641458 , 0.08988236])"
   ]
  },
  {
   "cell_type": "markdown",
   "id": "8dd776d5",
   "metadata": {},
   "source": [
    "### Tanh"
   ]
  },
  {
   "cell_type": "code",
   "execution_count": 10,
   "id": "9d0f508f",
   "metadata": {},
   "outputs": [],
   "source": [
    "def tanh(x):\n",
    "    return np.tanh(x)"
   ]
  },
  {
   "cell_type": "code",
   "execution_count": 11,
   "id": "df2d8c2c",
   "metadata": {
    "scrolled": true
   },
   "outputs": [
    {
     "data": {
      "text/plain": [
       "array([-0.96402758, -0.76159416,  0.        ,  0.76159416,  0.96402758,\n",
       "        1.        ,  1.        ,  1.        ])"
      ]
     },
     "execution_count": 11,
     "metadata": {},
     "output_type": "execute_result"
    }
   ],
   "source": [
    "values = np.array([-2, -1, 0, 1, 2, 10, 50, 500])\n",
    "tanh(values)"
   ]
  },
  {
   "cell_type": "markdown",
   "id": "2dc99903",
   "metadata": {},
   "source": [
    "### ReLU"
   ]
  },
  {
   "cell_type": "code",
   "execution_count": 13,
   "id": "529c7c73",
   "metadata": {},
   "outputs": [
    {
     "data": {
      "text/plain": [
       "array([  0,   0,   0,   7,   9, 100])"
      ]
     },
     "execution_count": 13,
     "metadata": {},
     "output_type": "execute_result"
    }
   ],
   "source": [
    "def relu(x):\n",
    "    return np.maximum(0, x)\n",
    "\n",
    "values = np.array([-12, -8, 0, 7, 9, 100])\n",
    "relu(values)"
   ]
  }
 ],
 "metadata": {
  "kernelspec": {
   "display_name": "Python 3 (ipykernel)",
   "language": "python",
   "name": "python3"
  },
  "language_info": {
   "codemirror_mode": {
    "name": "ipython",
    "version": 3
   },
   "file_extension": ".py",
   "mimetype": "text/x-python",
   "name": "python",
   "nbconvert_exporter": "python",
   "pygments_lexer": "ipython3",
   "version": "3.10.11"
  }
 },
 "nbformat": 4,
 "nbformat_minor": 5
}
