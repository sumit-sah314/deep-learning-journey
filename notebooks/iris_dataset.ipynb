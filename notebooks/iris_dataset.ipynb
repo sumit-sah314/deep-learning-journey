{
 "cells": [
  {
   "cell_type": "markdown",
   "id": "35a635cb-9afa-403a-a80c-571ab2142184",
   "metadata": {},
   "source": [
    "## Iris Dataset Loader with PyTorch"
   ]
  },
  {
   "cell_type": "code",
   "execution_count": 34,
   "id": "4aeccdcb-cd68-4c72-8c3b-3f5c6e038b7a",
   "metadata": {},
   "outputs": [],
   "source": [
    "import warnings\n",
    "warnings.filterwarnings('ignore')  # Suppress all warnings\n",
    "\n",
    "import torch\n",
    "from torch.utils.data import DataLoader, TensorDataset\n",
    "from sklearn.datasets import load_iris\n",
    "from sklearn.model_selection import train_test_split\n",
    "from sklearn.preprocessing import StandardScaler\n",
    "\n",
    "# 1. Loading the Iris dataset\n",
    "iris = load_iris()\n",
    "X = iris.data          # (150, 4)\n",
    "y = iris.target        # (150,)\n",
    "\n",
    "# 2. Standardize features\n",
    "scaler = StandardScaler()\n",
    "X_scaled = scaler.fit_transform(X)\n",
    "\n",
    "# 3. Train/test split\n",
    "X_train, X_test, y_train, y_test = train_test_split(\n",
    "    X_scaled, y, test_size=0.2, random_state=42\n",
    ")\n",
    "\n",
    "# 4. Convert to PyTorch tensors\n",
    "X_train_tensor = torch.tensor(X_train, dtype=torch.float32)\n",
    "y_train_tensor = torch.tensor(y_train, dtype=torch.long)  # must be long for CrossEntropyLoss\n",
    "X_test_tensor = torch.tensor(X_test, dtype=torch.float32)\n",
    "y_test_tensor = torch.tensor(y_test, dtype=torch.long)\n",
    "\n",
    "# 5. Wrap into DataLoaders\n",
    "train_dataset = TensorDataset(X_train_tensor, y_train_tensor)\n",
    "test_dataset = TensorDataset(X_test_tensor, y_test_tensor)\n",
    "\n",
    "train_loader = DataLoader(train_dataset, batch_size=16, shuffle=True)\n",
    "test_loader = DataLoader(test_dataset, batch_size=16)"
   ]
  },
  {
   "cell_type": "code",
   "execution_count": 35,
   "id": "998400d8-3bd3-48b9-94ad-02ad98b0fe78",
   "metadata": {},
   "outputs": [
    {
     "data": {
      "text/plain": [
       "(150, 4)"
      ]
     },
     "execution_count": 35,
     "metadata": {},
     "output_type": "execute_result"
    }
   ],
   "source": [
    "X.shape"
   ]
  },
  {
   "cell_type": "code",
   "execution_count": 36,
   "id": "c588f7df-8706-4bc6-82f2-2af937425a59",
   "metadata": {},
   "outputs": [
    {
     "data": {
      "text/plain": [
       "(150,)"
      ]
     },
     "execution_count": 36,
     "metadata": {},
     "output_type": "execute_result"
    }
   ],
   "source": [
    "y.shape"
   ]
  },
  {
   "cell_type": "markdown",
   "id": "9341fea3-08dc-48ed-bfeb-ee1a4e56f949",
   "metadata": {},
   "source": [
    "## Step 1: Define the Neural Network"
   ]
  },
  {
   "cell_type": "code",
   "execution_count": 37,
   "id": "5f1db36f-1085-4349-908a-f41f78bb6b72",
   "metadata": {},
   "outputs": [],
   "source": [
    "import torch.nn as nn\n",
    "import torch.nn.functional as f\n",
    "\n",
    "\n",
    "# Wihtout hidden Layer\n",
    "class IrisNN(nn.Module):\n",
    "    def __init__(self):\n",
    "        super(IrisNN, self).__init__()\n",
    "        self.linear = nn.Linear(4, 3) # Input 4 features\n",
    "    def forward(self, x):\n",
    "        return self.linear(x)\n",
    "\n",
    "# # With 1 hiddden layer\n",
    "class IrisNN(nn.Module):\n",
    "    def __init__(self):\n",
    "        super(IrisNN, self).__init__()\n",
    "        self.fc1 = nn.Linear(4,16) # Input 4 features\n",
    "        self.fc2 = nn.Linear(16,3) # hidden 16\n",
    "    def forward(self, x):\n",
    "        x = f.relu(self.fc1(x))\n",
    "        x = self.fc2(x)\n",
    "        return x\n"
   ]
  },
  {
   "cell_type": "markdown",
   "id": "a078b0a6-9c89-43a3-85d7-06375bedfa20",
   "metadata": {},
   "source": [
    "## Step 2: Training Setup"
   ]
  },
  {
   "cell_type": "code",
   "execution_count": 38,
   "id": "9d7b197d-b173-4994-9fab-5f5b56c9b325",
   "metadata": {},
   "outputs": [],
   "source": [
    "model = IrisNN()\n",
    "\n",
    "criterion = nn.CrossEntropyLoss()  # combines softmax + cross-entropy\n",
    "optimizer = torch.optim.Adam(model.parameters(), lr=0.01)\n"
   ]
  },
  {
   "cell_type": "markdown",
   "id": "69a7987a-2ab0-4629-bc71-3a6015618700",
   "metadata": {},
   "source": [
    "## Step 3: Training Loop Using Mini Batch GD"
   ]
  },
  {
   "cell_type": "code",
   "execution_count": 39,
   "id": "363d8537-82ea-4011-95b0-716af141849b",
   "metadata": {},
   "outputs": [],
   "source": [
    "def train(model, loader, criterion, optimizer, epochs=100):\n",
    "    model.train()\n",
    "    for epoch in range(epochs):\n",
    "        for X_batch, y_batch in loader:\n",
    "            # Forward\n",
    "            logits = model(X_batch)\n",
    "            loss = criterion(logits, y_batch)\n",
    "\n",
    "            # Backward\n",
    "            optimizer.zero_grad()\n",
    "            loss.backward()\n",
    "            optimizer.step()\n",
    "\n",
    "        if (epoch + 1) % 10 == 0:\n",
    "            print(f\"Epoch {epoch+1}/{epochs}, Loss: {loss.item():.4f}\")\n"
   ]
  },
  {
   "cell_type": "code",
   "execution_count": 40,
   "id": "79624bbe-5bc7-456e-8785-683865b8e343",
   "metadata": {},
   "outputs": [
    {
     "name": "stdout",
     "output_type": "stream",
     "text": [
      "Epoch 10/100, Loss: 0.3973\n",
      "Epoch 20/100, Loss: 0.4451\n",
      "Epoch 30/100, Loss: 0.2320\n",
      "Epoch 40/100, Loss: 0.1807\n",
      "Epoch 50/100, Loss: 0.2264\n",
      "Epoch 60/100, Loss: 0.0954\n",
      "Epoch 70/100, Loss: 0.1131\n",
      "Epoch 80/100, Loss: 0.1367\n",
      "Epoch 90/100, Loss: 0.0621\n",
      "Epoch 100/100, Loss: 0.1638\n"
     ]
    }
   ],
   "source": [
    "train(model, train_loader, criterion, optimizer)"
   ]
  },
  {
   "cell_type": "markdown",
   "id": "06c85b6c-83f3-498b-99f7-b5638ba684fc",
   "metadata": {},
   "source": [
    "## Step 4: Evaluate the Model"
   ]
  },
  {
   "cell_type": "code",
   "execution_count": 41,
   "id": "ec98e133-cf3e-4429-8709-7b7334ebfba3",
   "metadata": {},
   "outputs": [
    {
     "name": "stdout",
     "output_type": "stream",
     "text": [
      "Accuracy: 1.0\n"
     ]
    }
   ],
   "source": [
    "from sklearn.metrics import accuracy_score, classification_report, confusion_matrix\n",
    "\n",
    "model.eval()\n",
    "with torch.no_grad():\n",
    "    logits = model(X_test_tensor)\n",
    "    y_pred = torch.argmax(logits, dim=1)  \n",
    "\n",
    "\n",
    "print(\"Accuracy:\", accuracy_score(y_test_tensor.numpy(), y_pred.numpy()))"
   ]
  },
  {
   "cell_type": "code",
   "execution_count": 43,
   "id": "05858dd8-d4ec-46ce-9e2b-458c5c1a9827",
   "metadata": {},
   "outputs": [
    {
     "name": "stdout",
     "output_type": "stream",
     "text": [
      "\n",
      "Classification Report:\n",
      "\n",
      "              precision    recall  f1-score   support\n",
      "\n",
      "      setosa       1.00      1.00      1.00        10\n",
      "  versicolor       1.00      1.00      1.00         9\n",
      "   virginica       1.00      1.00      1.00        11\n",
      "\n",
      "    accuracy                           1.00        30\n",
      "   macro avg       1.00      1.00      1.00        30\n",
      "weighted avg       1.00      1.00      1.00        30\n",
      "\n",
      "Confusion Matrix:\n",
      "\n",
      "[[10  0  0]\n",
      " [ 0  9  0]\n",
      " [ 0  0 11]]\n"
     ]
    }
   ],
   "source": [
    "print(\"\\nClassification Report:\\n\")\n",
    "print(classification_report(y_test_tensor, y_pred, target_names=iris.target_names))\n",
    "\n",
    "print(\"Confusion Matrix:\\n\")\n",
    "print(confusion_matrix(y_test_tensor, y_pred))"
   ]
  },
  {
   "cell_type": "code",
   "execution_count": 47,
   "id": "ae4aa1ca-e910-470f-bb02-202240e1f5c9",
   "metadata": {},
   "outputs": [
    {
     "data": {
      "image/png": "[encoded data removed]",
      "text/plain": [
       "<Figure size 600x500 with 2 Axes>"
      ]
     },
     "metadata": {},
     "output_type": "display_data"
    }
   ],
   "source": [
    "import matplotlib.pyplot as plt\n",
    "import seaborn as sns  # optional, for better visuals\n",
    "plt.figure(figsize=(6, 5))\n",
    "cm = confusion_matrix(y_test_tensor, y_pred)\n",
    "labels = iris.target_names\n",
    "sns.heatmap(cm, annot=True, fmt=\"d\", cmap=\"Blues\", xticklabels=labels, yticklabels=labels)\n",
    "plt.xlabel(\"Predicted Label\")\n",
    "plt.ylabel(\"True Label\")\n",
    "plt.title(\"Confusion Matrix\")\n",
    "plt.tight_layout()\n",
    "plt.show()"
   ]
  },
  {
   "cell_type": "code",
   "execution_count": null,
   "id": "3f7815d0-29d6-46de-81a7-eb7cdd78c2e2",
   "metadata": {},
   "outputs": [],
   "source": []
  }
 ],
 "metadata": {
  "kernelspec": {
   "display_name": "Python [conda env:base] *",
   "language": "python",
   "name": "conda-base-py"
  },
  "language_info": {
   "codemirror_mode": {
    "name": "ipython",
    "version": 3
   },
   "file_extension": ".py",
   "mimetype": "text/x-python",
   "name": "python",
   "nbconvert_exporter": "python",
   "pygments_lexer": "ipython3",
   "version": "3.12.7"
  }
 },
 "nbformat": 4,
 "nbformat_minor": 5
}
